{
 "cells": [
  {
   "cell_type": "code",
   "execution_count": 29,
   "id": "c7e3e1bb",
   "metadata": {},
   "outputs": [
    {
     "ename": "ModuleNotFoundError",
     "evalue": "No module named 'tensorflow.keras'",
     "output_type": "error",
     "traceback": [
      "\u001b[0;31m---------------------------------------------------------------------------\u001b[0m",
      "\u001b[0;31mModuleNotFoundError\u001b[0m                       Traceback (most recent call last)",
      "Input \u001b[0;32mIn [29]\u001b[0m, in \u001b[0;36m<cell line: 11>\u001b[0;34m()\u001b[0m\n\u001b[1;32m      9\u001b[0m \u001b[38;5;28;01mimport\u001b[39;00m \u001b[38;5;21;01mtensorflow\u001b[39;00m \u001b[38;5;28;01mas\u001b[39;00m \u001b[38;5;21;01mtf\u001b[39;00m\n\u001b[1;32m     10\u001b[0m \u001b[38;5;66;03m# from tf import keras\u001b[39;00m\n\u001b[0;32m---> 11\u001b[0m \u001b[38;5;28;01mfrom\u001b[39;00m \u001b[38;5;21;01mtensorflow\u001b[39;00m\u001b[38;5;21;01m.\u001b[39;00m\u001b[38;5;21;01mkeras\u001b[39;00m\u001b[38;5;21;01m.\u001b[39;00m\u001b[38;5;21;01mmodels\u001b[39;00m \u001b[38;5;28;01mimport\u001b[39;00m load_model\n",
      "\u001b[0;31mModuleNotFoundError\u001b[0m: No module named 'tensorflow.keras'"
     ]
    }
   ],
   "source": [
    "import sys\n",
    "import json\n",
    "import base64\n",
    "import numpy as np\n",
    "import os\n",
    "from PIL import Image\n",
    "import io\n",
    "import os\n",
    "import tensorflow as tf\n",
    "# from tf import keras\n",
    "from tensorflow.keras.models import load_model"
   ]
  },
  {
   "cell_type": "code",
   "execution_count": 28,
   "id": "164056e7",
   "metadata": {},
   "outputs": [
    {
     "name": "stdout",
     "output_type": "stream",
     "text": [
      "\n",
      "\u001b[1m[\u001b[0m\u001b[34;49mnotice\u001b[0m\u001b[1;39;49m]\u001b[0m\u001b[39;49m A new release of pip is available: \u001b[0m\u001b[31;49m23.1.2\u001b[0m\u001b[39;49m -> \u001b[0m\u001b[32;49m23.3.1\u001b[0m\n",
      "\u001b[1m[\u001b[0m\u001b[34;49mnotice\u001b[0m\u001b[1;39;49m]\u001b[0m\u001b[39;49m To update, run: \u001b[0m\u001b[32;49mpip install --upgrade pip\u001b[0m\n",
      "\n",
      "\u001b[1m[\u001b[0m\u001b[34;49mnotice\u001b[0m\u001b[1;39;49m]\u001b[0m\u001b[39;49m A new release of pip is available: \u001b[0m\u001b[31;49m23.1.2\u001b[0m\u001b[39;49m -> \u001b[0m\u001b[32;49m23.3.1\u001b[0m\n",
      "\u001b[1m[\u001b[0m\u001b[34;49mnotice\u001b[0m\u001b[1;39;49m]\u001b[0m\u001b[39;49m To update, run: \u001b[0m\u001b[32;49mpip install --upgrade pip\u001b[0m\n",
      "\n",
      "\u001b[1m[\u001b[0m\u001b[34;49mnotice\u001b[0m\u001b[1;39;49m]\u001b[0m\u001b[39;49m A new release of pip is available: \u001b[0m\u001b[31;49m23.1.2\u001b[0m\u001b[39;49m -> \u001b[0m\u001b[32;49m23.3.1\u001b[0m\n",
      "\u001b[1m[\u001b[0m\u001b[34;49mnotice\u001b[0m\u001b[1;39;49m]\u001b[0m\u001b[39;49m To update, run: \u001b[0m\u001b[32;49mpip install --upgrade pip\u001b[0m\n",
      "\n",
      "\u001b[1m[\u001b[0m\u001b[34;49mnotice\u001b[0m\u001b[1;39;49m]\u001b[0m\u001b[39;49m A new release of pip is available: \u001b[0m\u001b[31;49m23.1.2\u001b[0m\u001b[39;49m -> \u001b[0m\u001b[32;49m23.3.1\u001b[0m\n",
      "\u001b[1m[\u001b[0m\u001b[34;49mnotice\u001b[0m\u001b[1;39;49m]\u001b[0m\u001b[39;49m To update, run: \u001b[0m\u001b[32;49mpip install --upgrade pip\u001b[0m\n"
     ]
    }
   ],
   "source": [
    "!pip install -U -q segmentation-models\n",
    "# !pip install -q numpy==1.18.5\n",
    "# !pip install -q tensorflow==2.15.0\n",
    "!pip install -q tensorflow==2.15.0\n",
    "\n",
    "!pip install -q keras==2.15.0\n",
    "# !pip install -q keras\n",
    "!pip install -q tensorflow-estimator\n"
   ]
  },
  {
   "cell_type": "code",
   "execution_count": 23,
   "id": "6bcf4d54",
   "metadata": {},
   "outputs": [],
   "source": [
    "\n",
    "def crop_center(img, cropx, cropy):\n",
    "    # Assuming img has shape (slices, height, width, channels)\n",
    "    d, y, x, c = img.shape\n",
    "    startx = x // 2 - (cropx // 2)\n",
    "    starty = y // 2 - (cropy // 2)\n",
    "    \n",
    "    # Ensure the cropped image has the same number of channels\n",
    "    return img[:, starty:starty+cropy, startx:startx+cropx, :]\n",
    "\n",
    "def pad_slices(scan, target_slices= 50):\n",
    "    # Get the current number of slices\n",
    "    current_slices = scan.shape[0]\n",
    "    # Check if padding is necessary\n",
    "    if current_slices < target_slices:\n",
    "        # Calculate padding amounts\n",
    "        pad_before = (target_slices - current_slices) // 2\n",
    "        pad_after = target_slices - current_slices - pad_before\n",
    "        # Pad the scan with zeros on the slices axis (axis 0)\n",
    "        padded_scan = np.pad(scan, pad_width=((pad_before, pad_after), (0, 0), (0, 0)), mode='constant', constant_values=0)\n",
    "    elif current_slices > target_slices:\n",
    "        # Calculate the cropping needed\n",
    "        start = (current_slices - target_slices) // 2\n",
    "        end = start + target_slices\n",
    "        # Crop the scan to the target size\n",
    "        padded_scan = scan[start:end, :, :]\n",
    "    else:\n",
    "        # If the number of slices is already equal to the target, no action is needed\n",
    "        padded_scan = scan\n",
    "    return padded_scan\n"
   ]
  },
  {
   "cell_type": "code",
   "execution_count": 22,
   "id": "5dbc45b3",
   "metadata": {},
   "outputs": [],
   "source": [
    "im = []\n",
    "image_array = np.load('uploads/data_a.npy')\n",
    "image_array_s = np.load('uploads/data_s.npy')\n",
    "image_array_c = np.load('uploads/data_c.npy')\n",
    "\n",
    "for i in range(len(image_array)):\n",
    "    im.append(Image.fromarray(image_array[i].astype('uint8')))\n",
    "for i in range(len(image_array_s)):\n",
    "    im.append(Image.fromarray(image_array_s[i].astype('uint8')))\n",
    "for i in range(len(image_array_c)):\n",
    "    im.append(Image.fromarray(image_array_c[i].astype('uint8')))\n"
   ]
  },
  {
   "cell_type": "code",
   "execution_count": 24,
   "id": "0c7fe1e5",
   "metadata": {},
   "outputs": [],
   "source": [
    "array_a = pad_slices(image_array)\n",
    "array_s = pad_slices(image_array_s)\n",
    "array_c = pad_slices(image_array_c)\n",
    "\n",
    "\n",
    "all = np.stack((array_a, array_s, array_c), axis=-1)\n",
    "all = np.array([crop_center(all, 160, 160) ])"
   ]
  },
  {
   "cell_type": "code",
   "execution_count": 26,
   "id": "ced5cb91",
   "metadata": {},
   "outputs": [
    {
     "ename": "NameError",
     "evalue": "name 'load_model' is not defined",
     "output_type": "error",
     "traceback": [
      "\u001b[0;31m---------------------------------------------------------------------------\u001b[0m",
      "\u001b[0;31mNameError\u001b[0m                                 Traceback (most recent call last)",
      "Input \u001b[0;32mIn [26]\u001b[0m, in \u001b[0;36m<cell line: 2>\u001b[0;34m()\u001b[0m\n\u001b[1;32m      1\u001b[0m model_path \u001b[38;5;241m=\u001b[39m os\u001b[38;5;241m.\u001b[39mpath\u001b[38;5;241m.\u001b[39mjoin(\u001b[38;5;124m'\u001b[39m\u001b[38;5;124mmodels\u001b[39m\u001b[38;5;124m'\u001b[39m, \u001b[38;5;124m'\u001b[39m\u001b[38;5;124mimageclassifier5.h5\u001b[39m\u001b[38;5;124m'\u001b[39m)\n\u001b[0;32m----> 2\u001b[0m model \u001b[38;5;241m=\u001b[39m \u001b[43mload_model\u001b[49m(model_path)\n\u001b[1;32m      3\u001b[0m prediction \u001b[38;5;241m=\u001b[39m model\u001b[38;5;241m.\u001b[39mpredict(\u001b[38;5;28mall\u001b[39m)\n",
      "\u001b[0;31mNameError\u001b[0m: name 'load_model' is not defined"
     ]
    }
   ],
   "source": [
    "model_path = os.path.join('models', 'imageclassifier5.h5')\n",
    "model = load_model(model_path)\n",
    "prediction = model.predict(all)\n"
   ]
  },
  {
   "cell_type": "code",
   "execution_count": null,
   "id": "e054455d",
   "metadata": {},
   "outputs": [],
   "source": []
  }
 ],
 "metadata": {
  "kernelspec": {
   "display_name": "Python 3 (ipykernel)",
   "language": "python",
   "name": "python3"
  },
  "language_info": {
   "codemirror_mode": {
    "name": "ipython",
    "version": 3
   },
   "file_extension": ".py",
   "mimetype": "text/x-python",
   "name": "python",
   "nbconvert_exporter": "python",
   "pygments_lexer": "ipython3",
   "version": "3.9.13"
  }
 },
 "nbformat": 4,
 "nbformat_minor": 5
}

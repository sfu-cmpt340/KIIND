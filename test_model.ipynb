{
 "cells": [
  {
   "cell_type": "code",
   "execution_count": 2,
   "id": "d01a3a81",
   "metadata": {},
   "outputs": [
    {
     "name": "stdout",
     "output_type": "stream",
     "text": [
      "2.15.0\n"
     ]
    }
   ],
   "source": [
    "import sys\n",
    "import json\n",
    "import base64\n",
    "import numpy as np\n",
    "import os\n",
    "from PIL import Image\n",
    "import io\n",
    "import os\n",
    "import tensorflow as tf\n",
    "from tensorflow.keras.models import load_model\n",
    "# from keras.models import load_model\n",
    "print(tf.__version__)"
   ]
  },
  {
   "cell_type": "code",
   "execution_count": 28,
   "id": "0396f78e",
   "metadata": {},
   "outputs": [
    {
     "name": "stdout",
     "output_type": "stream",
     "text": [
      "\n",
      "\u001b[1m[\u001b[0m\u001b[34;49mnotice\u001b[0m\u001b[1;39;49m]\u001b[0m\u001b[39;49m A new release of pip is available: \u001b[0m\u001b[31;49m23.1.2\u001b[0m\u001b[39;49m -> \u001b[0m\u001b[32;49m23.3.1\u001b[0m\n",
      "\u001b[1m[\u001b[0m\u001b[34;49mnotice\u001b[0m\u001b[1;39;49m]\u001b[0m\u001b[39;49m To update, run: \u001b[0m\u001b[32;49mpip install --upgrade pip\u001b[0m\n",
      "\n",
      "\u001b[1m[\u001b[0m\u001b[34;49mnotice\u001b[0m\u001b[1;39;49m]\u001b[0m\u001b[39;49m A new release of pip is available: \u001b[0m\u001b[31;49m23.1.2\u001b[0m\u001b[39;49m -> \u001b[0m\u001b[32;49m23.3.1\u001b[0m\n",
      "\u001b[1m[\u001b[0m\u001b[34;49mnotice\u001b[0m\u001b[1;39;49m]\u001b[0m\u001b[39;49m To update, run: \u001b[0m\u001b[32;49mpip install --upgrade pip\u001b[0m\n",
      "\n",
      "\u001b[1m[\u001b[0m\u001b[34;49mnotice\u001b[0m\u001b[1;39;49m]\u001b[0m\u001b[39;49m A new release of pip is available: \u001b[0m\u001b[31;49m23.1.2\u001b[0m\u001b[39;49m -> \u001b[0m\u001b[32;49m23.3.1\u001b[0m\n",
      "\u001b[1m[\u001b[0m\u001b[34;49mnotice\u001b[0m\u001b[1;39;49m]\u001b[0m\u001b[39;49m To update, run: \u001b[0m\u001b[32;49mpip install --upgrade pip\u001b[0m\n",
      "\n",
      "\u001b[1m[\u001b[0m\u001b[34;49mnotice\u001b[0m\u001b[1;39;49m]\u001b[0m\u001b[39;49m A new release of pip is available: \u001b[0m\u001b[31;49m23.1.2\u001b[0m\u001b[39;49m -> \u001b[0m\u001b[32;49m23.3.1\u001b[0m\n",
      "\u001b[1m[\u001b[0m\u001b[34;49mnotice\u001b[0m\u001b[1;39;49m]\u001b[0m\u001b[39;49m To update, run: \u001b[0m\u001b[32;49mpip install --upgrade pip\u001b[0m\n"
     ]
    }
   ],
   "source": [
    "!pip install -U -q segmentation-models\n",
    "# !pip install -q numpy==1.18.5\n",
    "# !pip install -q tensorflow==2.15.0\n",
    "!pip install -q tensorflow==2.15.0\n",
    "\n",
    "!pip install -q keras==2.15.0\n",
    "# !pip install -q keras\n",
    "!pip install -q tensorflow-estimator\n"
   ]
  },
  {
   "cell_type": "code",
   "execution_count": 3,
   "id": "b20fd6ae",
   "metadata": {},
   "outputs": [],
   "source": [
    "\n",
    "def crop_center(img, cropx, cropy):\n",
    "    # Assuming img has shape (slices, height, width, channels)\n",
    "    d, y, x, c = img.shape\n",
    "    startx = x // 2 - (cropx // 2)\n",
    "    starty = y // 2 - (cropy // 2)\n",
    "    \n",
    "    # Ensure the cropped image has the same number of channels\n",
    "    return img[:, starty:starty+cropy, startx:startx+cropx, :]\n",
    "\n",
    "def pad_slices(scan, target_slices= 50):\n",
    "    # Get the current number of slices\n",
    "    current_slices = scan.shape[0]\n",
    "    # Check if padding is necessary\n",
    "    if current_slices < target_slices:\n",
    "        # Calculate padding amounts\n",
    "        pad_before = (target_slices - current_slices) // 2\n",
    "        pad_after = target_slices - current_slices - pad_before\n",
    "        # Pad the scan with zeros on the slices axis (axis 0)\n",
    "        padded_scan = np.pad(scan, pad_width=((pad_before, pad_after), (0, 0), (0, 0)), mode='constant', constant_values=0)\n",
    "    elif current_slices > target_slices:\n",
    "        # Calculate the cropping needed\n",
    "        start = (current_slices - target_slices) // 2\n",
    "        end = start + target_slices\n",
    "        # Crop the scan to the target size\n",
    "        padded_scan = scan[start:end, :, :]\n",
    "    else:\n",
    "        # If the number of slices is already equal to the target, no action is needed\n",
    "        padded_scan = scan\n",
    "    return padded_scan\n"
   ]
  },
  {
   "cell_type": "code",
   "execution_count": 4,
   "id": "20c5da14",
   "metadata": {},
   "outputs": [],
   "source": [
    "im = []\n",
    "image_array = np.load('uploads/data_a.npy')\n",
    "image_array_s = np.load('uploads/data_s.npy')\n",
    "image_array_c = np.load('uploads/data_c.npy')\n",
    "\n",
    "for i in range(len(image_array)):\n",
    "    im.append(Image.fromarray(image_array[i].astype('uint8')))\n",
    "for i in range(len(image_array_s)):\n",
    "    im.append(Image.fromarray(image_array_s[i].astype('uint8')))\n",
    "for i in range(len(image_array_c)):\n",
    "    im.append(Image.fromarray(image_array_c[i].astype('uint8')))\n"
   ]
  },
  {
   "cell_type": "code",
   "execution_count": 8,
   "id": "125d79db",
   "metadata": {},
   "outputs": [],
   "source": [
    "array_a = pad_slices(image_array)\n",
    "array_s = pad_slices(image_array_s)\n",
    "array_c = pad_slices(image_array_c)\n",
    "\n",
    "\n",
    "all = np.stack((array_a, array_s, array_c), axis=-1)\n",
    "all = np.array([crop_center(all, 160, 160) ])"
   ]
  },
  {
   "cell_type": "code",
   "execution_count": 9,
   "id": "0e2c0360",
   "metadata": {},
   "outputs": [],
   "source": [
    "\n",
    "batch_min = all.min()\n",
    "batch_max = all.max()\n",
    "all = (all.astype(np.float32) - batch_min) / (batch_max - batch_min)\n"
   ]
  },
  {
   "cell_type": "code",
   "execution_count": 10,
   "id": "f57d02b3",
   "metadata": {},
   "outputs": [
    {
     "name": "stderr",
     "output_type": "stream",
     "text": [
      "WARNING:absl:At this time, the v2.11+ optimizer `tf.keras.optimizers.Adam` runs slowly on M1/M2 Macs, please use the legacy Keras optimizer instead, located at `tf.keras.optimizers.legacy.Adam`.\n"
     ]
    },
    {
     "name": "stdout",
     "output_type": "stream",
     "text": [
      "1/1 [==============================] - 1s 584ms/step\n"
     ]
    }
   ],
   "source": [
    "model_path = os.path.join('models', 'imageclassifier5.h5')\n",
    "model = load_model(model_path)\n",
    "prediction = model.predict(all)\n"
   ]
  },
  {
   "cell_type": "code",
   "execution_count": 11,
   "id": "4ff85417",
   "metadata": {},
   "outputs": [
    {
     "data": {
      "text/plain": [
       "array([[0.7348131 , 0.25867304, 0.4119315 ]], dtype=float32)"
      ]
     },
     "execution_count": 11,
     "metadata": {},
     "output_type": "execute_result"
    }
   ],
   "source": [
    "prediction"
   ]
  },
  {
   "cell_type": "code",
   "execution_count": 7,
   "id": "876dc297",
   "metadata": {},
   "outputs": [
    {
     "name": "stdout",
     "output_type": "stream",
     "text": [
      "Model: \"model\"\n",
      "__________________________________________________________________________________________________\n",
      " Layer (type)                Output Shape                 Param #   Connected to                  \n",
      "==================================================================================================\n",
      " input_1 (InputLayer)        [(None, 50, 160, 160, 3)]    0         []                            \n",
      "                                                                                                  \n",
      " conv3d (Conv3D)             (None, 25, 80, 80, 32)       32960     ['input_1[0][0]']             \n",
      "                                                                                                  \n",
      " batch_normalization (Batch  (None, 25, 80, 80, 32)       128       ['conv3d[0][0]']              \n",
      " Normalization)                                                                                   \n",
      "                                                                                                  \n",
      " activation (Activation)     (None, 25, 80, 80, 32)       0         ['batch_normalization[0][0]'] \n",
      "                                                                                                  \n",
      " max_pooling3d (MaxPooling3  (None, 13, 40, 40, 32)       0         ['activation[0][0]']          \n",
      " D)                                                                                               \n",
      "                                                                                                  \n",
      " conv3d_2 (Conv3D)           (None, 13, 40, 40, 64)       55360     ['max_pooling3d[0][0]']       \n",
      "                                                                                                  \n",
      " batch_normalization_2 (Bat  (None, 13, 40, 40, 64)       256       ['conv3d_2[0][0]']            \n",
      " chNormalization)                                                                                 \n",
      "                                                                                                  \n",
      " activation_1 (Activation)   (None, 13, 40, 40, 64)       0         ['batch_normalization_2[0][0]'\n",
      "                                                                    ]                             \n",
      "                                                                                                  \n",
      " conv3d_1 (Conv3D)           (None, 13, 40, 40, 64)       2112      ['max_pooling3d[0][0]']       \n",
      "                                                                                                  \n",
      " conv3d_3 (Conv3D)           (None, 13, 40, 40, 64)       110656    ['activation_1[0][0]']        \n",
      "                                                                                                  \n",
      " batch_normalization_1 (Bat  (None, 13, 40, 40, 64)       256       ['conv3d_1[0][0]']            \n",
      " chNormalization)                                                                                 \n",
      "                                                                                                  \n",
      " batch_normalization_3 (Bat  (None, 13, 40, 40, 64)       256       ['conv3d_3[0][0]']            \n",
      " chNormalization)                                                                                 \n",
      "                                                                                                  \n",
      " add (Add)                   (None, 13, 40, 40, 64)       0         ['batch_normalization_1[0][0]'\n",
      "                                                                    , 'batch_normalization_3[0][0]\n",
      "                                                                    ']                            \n",
      "                                                                                                  \n",
      " activation_2 (Activation)   (None, 13, 40, 40, 64)       0         ['add[0][0]']                 \n",
      "                                                                                                  \n",
      " conv3d_4 (Conv3D)           (None, 13, 40, 40, 64)       110656    ['activation_2[0][0]']        \n",
      "                                                                                                  \n",
      " batch_normalization_4 (Bat  (None, 13, 40, 40, 64)       256       ['conv3d_4[0][0]']            \n",
      " chNormalization)                                                                                 \n",
      "                                                                                                  \n",
      " activation_3 (Activation)   (None, 13, 40, 40, 64)       0         ['batch_normalization_4[0][0]'\n",
      "                                                                    ]                             \n",
      "                                                                                                  \n",
      " conv3d_5 (Conv3D)           (None, 13, 40, 40, 64)       110656    ['activation_3[0][0]']        \n",
      "                                                                                                  \n",
      " batch_normalization_5 (Bat  (None, 13, 40, 40, 64)       256       ['conv3d_5[0][0]']            \n",
      " chNormalization)                                                                                 \n",
      "                                                                                                  \n",
      " add_1 (Add)                 (None, 13, 40, 40, 64)       0         ['activation_2[0][0]',        \n",
      "                                                                     'batch_normalization_5[0][0]'\n",
      "                                                                    ]                             \n",
      "                                                                                                  \n",
      " activation_4 (Activation)   (None, 13, 40, 40, 64)       0         ['add_1[0][0]']               \n",
      "                                                                                                  \n",
      " dropout (Dropout)           (None, 13, 40, 40, 64)       0         ['activation_4[0][0]']        \n",
      "                                                                                                  \n",
      " global_max_pooling3d (Glob  (None, 64)                   0         ['dropout[0][0]']             \n",
      " alMaxPooling3D)                                                                                  \n",
      "                                                                                                  \n",
      " dense (Dense)               (None, 1024)                 66560     ['global_max_pooling3d[0][0]']\n",
      "                                                                                                  \n",
      " dropout_1 (Dropout)         (None, 1024)                 0         ['dense[0][0]']               \n",
      "                                                                                                  \n",
      " dense_1 (Dense)             (None, 3)                    3075      ['dropout_1[0][0]']           \n",
      "                                                                                                  \n",
      "==================================================================================================\n",
      "Total params: 493443 (1.88 MB)\n",
      "Trainable params: 492739 (1.88 MB)\n",
      "Non-trainable params: 704 (2.75 KB)\n",
      "__________________________________________________________________________________________________\n"
     ]
    }
   ],
   "source": [
    "model.summary()\n"
   ]
  },
  {
   "cell_type": "code",
   "execution_count": null,
   "id": "89d877df",
   "metadata": {},
   "outputs": [],
   "source": []
  }
 ],
 "metadata": {
  "kernelspec": {
   "display_name": "Python 3 (ipykernel)",
   "language": "python",
   "name": "python3"
  },
  "language_info": {
   "codemirror_mode": {
    "name": "ipython",
    "version": 3
   },
   "file_extension": ".py",
   "mimetype": "text/x-python",
   "name": "python",
   "nbconvert_exporter": "python",
   "pygments_lexer": "ipython3",
   "version": "3.9.13"
  }
 },
 "nbformat": 4,
 "nbformat_minor": 5
}

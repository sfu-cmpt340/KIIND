{
 "cells": [
  {
   "cell_type": "markdown",
   "metadata": {},
   "source": [
    "# 1. Install Dependencies and Setup"
   ]
  },
  {
   "cell_type": "code",
   "execution_count": 1,
   "metadata": {},
   "outputs": [
    {
     "name": "stdout",
     "output_type": "stream",
     "text": [
      "WARNING:tensorflow:From C:\\Users\\Jack\\AppData\\Local\\Programs\\Python\\Python310\\lib\\site-packages\\keras\\src\\losses.py:2976: The name tf.losses.sparse_softmax_cross_entropy is deprecated. Please use tf.compat.v1.losses.sparse_softmax_cross_entropy instead.\n",
      "\n"
     ]
    }
   ],
   "source": [
    "import tensorflow as tf\n",
    "import os"
   ]
  },
  {
   "cell_type": "code",
   "execution_count": 2,
   "metadata": {},
   "outputs": [],
   "source": [
    "# Avoid OOM errors by setting GPU Memory Consumption Growth\n",
    "gpus = tf.config.experimental.list_physical_devices('GPU')\n",
    "for gpu in gpus: \n",
    "    tf.config.experimental.set_memory_growth(gpu, True)"
   ]
  },
  {
   "cell_type": "code",
   "execution_count": 3,
   "metadata": {
    "tags": []
   },
   "outputs": [
    {
     "data": {
      "text/plain": [
       "[]"
      ]
     },
     "execution_count": 3,
     "metadata": {},
     "output_type": "execute_result"
    }
   ],
   "source": [
    "tf.config.list_physical_devices('GPU')"
   ]
  },
  {
   "cell_type": "markdown",
   "metadata": {},
   "source": [
    "# 2. Load Data"
   ]
  },
  {
   "cell_type": "code",
   "execution_count": null,
   "metadata": {},
   "outputs": [],
   "source": [
    "# Processing, Loading, and Padding the data"
   ]
  },
  {
   "cell_type": "code",
   "execution_count": 1,
   "metadata": {},
   "outputs": [],
   "source": [
    "import os\n",
    "import numpy as np\n",
    "import pandas as pd\n",
    "import matplotlib.pyplot as plt\n",
    "\n",
    "def pad_slices(scan, target_slices= 50):\n",
    "    # Get the current number of slices\n",
    "    current_slices = scan.shape[0]\n",
    "    # Check if padding is necessary\n",
    "    if current_slices < target_slices:\n",
    "        # Calculate padding amounts\n",
    "        pad_before = (target_slices - current_slices) // 2\n",
    "        pad_after = target_slices - current_slices - pad_before\n",
    "        # Pad the scan with zeros on the slices axis (axis 0)\n",
    "        padded_scan = np.pad(scan, pad_width=((pad_before, pad_after), (0, 0), (0, 0)), mode='constant', constant_values=0)\n",
    "    elif current_slices > target_slices:\n",
    "        # Calculate the cropping needed\n",
    "        start = (current_slices - target_slices) // 2\n",
    "        end = start + target_slices\n",
    "        # Crop the scan to the target size\n",
    "        padded_scan = scan[start:end, :, :]\n",
    "    else:\n",
    "        # If the number of slices is already equal to the target, no action is needed\n",
    "        padded_scan = scan\n",
    "    return padded_scan\n",
    "\n",
    "\n",
    "def process_and_save_scan(path_to_scan, target_slices=50, save_dir=''):\n",
    "    scan = np.load(path_to_scan, allow_pickle=True)\n",
    "    padded_scan = pad_slices(scan, target_slices=target_slices)\n",
    "    # Define the save path\n",
    "    save_path = os.path.join(save_dir, os.path.basename(path_to_scan))\n",
    "    # Save the processed scan to a new file\n",
    "    np.save(save_path, padded_scan)\n",
    "    # Free up memory immediately\n",
    "    del scan, padded_scan\n",
    "\n",
    "def load_data(target_slices=50, save_processed=False, processed_prefix='processed_'):\n",
    "    # Directories for axial, coronal, and sagittal scans\n",
    "    directories = ['data/axial', 'data/coronal', 'data/sagittal']\n",
    "    data_all_angles = []\n",
    "\n",
    "    for directory in directories:\n",
    "        processed_scans = []\n",
    "        for scan_file in sorted(os.listdir(directory)):\n",
    "            if scan_file.endswith('.npy'):\n",
    "                path_to_scan = os.path.join(directory, scan_file)\n",
    "                \n",
    "                # Define processed file path\n",
    "                processed_file_name = f'{processed_prefix}{scan_file}'\n",
    "                processed_file_path = os.path.join(directory, processed_file_name)\n",
    "\n",
    "                # Check if processed file exists\n",
    "                if os.path.isfile(processed_file_path):\n",
    "                    # Load processed scan\n",
    "                    processed_scan = np.load(processed_file_path)\n",
    "                else:\n",
    "                    # Load and process original scan\n",
    "                    scan = np.load(path_to_scan, allow_pickle=True)\n",
    "                    processed_scan = pad_slices(scan, target_slices)\n",
    "\n",
    "                    # Optionally save the processed scan to disk\n",
    "                    if save_processed:\n",
    "                        np.save(processed_file_path, processed_scan)\n",
    "\n",
    "                    # Free up memory\n",
    "                    del scan\n",
    "\n",
    "                processed_scans.append(processed_scan)\n",
    "\n",
    "        # Add the processed scans for the current angle to the data_all_angles list\n",
    "        data_all_angles.append(processed_scans)\n",
    "\n",
    "    # Now stack the processed data from different angles\n",
    "    combined_data = [np.stack((axial, coronal, sagittal), axis=-1) \n",
    "                     for axial, coronal, sagittal in zip(*data_all_angles)]\n",
    "\n",
    "    # Load labels\n",
    "    labels_abnormal = pd.read_csv('labels/train-abnormal.csv')\n",
    "    labels_acl = pd.read_csv('labels/train-acl.csv')\n",
    "    labels_meniscus = pd.read_csv('labels/train-meniscus.csv')\n",
    "\n",
    "    # Combine labels into a single array\n",
    "    combined_labels = np.vstack((labels_abnormal.iloc[:,1], labels_acl.iloc[:,1], labels_meniscus.iloc[:,1])).T\n",
    "\n",
    "    return np.array(combined_data), combined_labels\n",
    "\n",
    "\n",
    "# Use the load_data function\n",
    "data, labels = load_data(save_processed=True)"
   ]
  },
  {
   "cell_type": "markdown",
   "metadata": {},
   "source": [
    "## Use to display data"
   ]
  },
  {
   "cell_type": "code",
   "execution_count": 13,
   "metadata": {},
   "outputs": [
    {
     "data": {
      "image/png": "[encoded data removed]",
      "text/plain": [
       "<Figure size 1500x500 with 3 Axes>"
      ]
     },
     "metadata": {},
     "output_type": "display_data"
    },
    {
     "data": {
      "image/png": "[encoded data removed]",
      "text/plain": [
       "<Figure size 1500x500 with 3 Axes>"
      ]
     },
     "metadata": {},
     "output_type": "display_data"
    }
   ],
   "source": [
    "\n",
    "def display_data(data, labels):\n",
    "    # Display the first image of each angle from the combined data along with the labels\n",
    "    for i in range(len(data)):\n",
    "        fig, axs = plt.subplots(1, 3, figsize=(15, 5))\n",
    "        \n",
    "        # The data shape is expected to be (slices, 255, 255, angles)\n",
    "        # We will display the middle slice for each angle.\n",
    "        middle_slice_index = data[i].shape[0] // 2\n",
    "\n",
    "        for j, title in enumerate(['Axial', 'Coronal', 'Sagittal']):\n",
    "            # Extract the middle slice for the current angle\n",
    "            image = data[i][middle_slice_index, :, :, j]\n",
    "            \n",
    "            axs[j].imshow(image, cmap='gray')\n",
    "            axs[j].axis('off')  # Turn off axis\n",
    "            axs[j].title.set_text(title)\n",
    "\n",
    "        label_names = ['Abnormal', 'ACL', 'Meniscus']\n",
    "        label_str = ', '.join(f'{name}: {value}' for name, value in zip(label_names, labels[i]))\n",
    "        plt.suptitle(f'Labels: {label_str}')\n",
    "\n",
    "        # Show the plot\n",
    "        plt.show()\n",
    "\n",
    "        # Break after the first set of images for brevity\n",
    "        if i == 1:\n",
    "            break\n",
    "\n",
    "\n",
    "\n",
    "\n",
    "\n",
    "# Display data and labels\n",
    "display_data(data, labels)"
   ]
  },
  {
   "cell_type": "markdown",
   "metadata": {},
   "source": [
    "# 3. Preprocess Data (Crop, Scale, Augment)"
   ]
  },
  {
   "cell_type": "markdown",
   "metadata": {},
   "source": [
    "## Cropping the Data to 160 x 160"
   ]
  },
  {
   "cell_type": "code",
   "execution_count": 7,
   "metadata": {
    "scrolled": true
   },
   "outputs": [
    {
     "name": "stdout",
     "output_type": "stream",
     "text": [
      "Cropped batch from index 0 to 10\n",
      "Cropped batch from index 10 to 20\n",
      "Cropped batch from index 20 to 30\n",
      "Cropped batch from index 30 to 40\n",
      "Cropped batch from index 40 to 50\n",
      "Cropped batch from index 50 to 60\n",
      "Cropped batch from index 60 to 70\n",
      "Cropped batch from index 70 to 80\n",
      "Cropped batch from index 80 to 90\n",
      "Cropped batch from index 90 to 100\n",
      "Cropped batch from index 100 to 110\n",
      "Cropped batch from index 110 to 120\n",
      "Cropped batch from index 120 to 130\n",
      "Cropped batch from index 130 to 140\n",
      "Cropped batch from index 140 to 150\n",
      "Cropped batch from index 150 to 160\n",
      "Cropped batch from index 160 to 170\n",
      "Cropped batch from index 170 to 180\n",
      "Cropped batch from index 180 to 190\n",
      "Cropped batch from index 190 to 200\n",
      "Cropped batch from index 200 to 210\n",
      "Cropped batch from index 210 to 220\n",
      "Cropped batch from index 220 to 230\n",
      "Cropped batch from index 230 to 240\n",
      "Cropped batch from index 240 to 250\n",
      "Cropped batch from index 250 to 260\n",
      "Cropped batch from index 260 to 270\n",
      "Cropped batch from index 270 to 280\n",
      "Cropped batch from index 280 to 290\n",
      "Cropped batch from index 290 to 300\n",
      "Cropped batch from index 300 to 310\n",
      "Cropped batch from index 310 to 320\n",
      "Cropped batch from index 320 to 330\n",
      "Cropped batch from index 330 to 340\n",
      "Cropped batch from index 340 to 350\n",
      "Cropped batch from index 350 to 360\n",
      "Cropped batch from index 360 to 370\n",
      "Cropped batch from index 370 to 380\n",
      "Cropped batch from index 380 to 390\n",
      "Cropped batch from index 390 to 400\n",
      "Cropped batch from index 400 to 410\n",
      "Cropped batch from index 410 to 420\n",
      "Cropped batch from index 420 to 430\n",
      "Cropped batch from index 430 to 440\n",
      "Cropped batch from index 440 to 450\n",
      "Cropped batch from index 450 to 460\n",
      "Cropped batch from index 460 to 470\n",
      "Cropped batch from index 470 to 480\n",
      "Cropped batch from index 480 to 490\n",
      "Cropped batch from index 490 to 500\n",
      "Cropped batch from index 500 to 510\n",
      "Cropped batch from index 510 to 520\n",
      "Cropped batch from index 520 to 530\n",
      "Cropped batch from index 530 to 540\n",
      "Cropped batch from index 540 to 550\n",
      "Cropped batch from index 550 to 560\n",
      "Cropped batch from index 560 to 570\n",
      "Cropped batch from index 570 to 580\n",
      "Cropped batch from index 580 to 590\n",
      "Cropped batch from index 590 to 600\n",
      "Cropped batch from index 600 to 610\n",
      "Cropped batch from index 610 to 620\n",
      "Cropped batch from index 620 to 630\n",
      "Cropped batch from index 630 to 640\n",
      "Cropped batch from index 640 to 650\n",
      "Cropped batch from index 650 to 660\n",
      "Cropped batch from index 660 to 670\n",
      "Cropped batch from index 670 to 680\n",
      "Cropped batch from index 680 to 690\n",
      "Cropped batch from index 690 to 700\n",
      "Cropped batch from index 700 to 710\n",
      "Cropped batch from index 710 to 720\n",
      "Cropped batch from index 720 to 730\n",
      "Cropped batch from index 730 to 740\n",
      "Cropped batch from index 740 to 750\n",
      "Cropped batch from index 750 to 760\n",
      "Cropped batch from index 760 to 770\n",
      "Cropped batch from index 770 to 780\n",
      "Cropped batch from index 780 to 790\n",
      "Cropped batch from index 790 to 800\n",
      "Cropped batch from index 800 to 810\n",
      "Cropped batch from index 810 to 820\n",
      "Cropped batch from index 820 to 830\n",
      "Cropped batch from index 830 to 840\n",
      "Cropped batch from index 840 to 850\n",
      "Cropped batch from index 850 to 860\n",
      "Cropped batch from index 860 to 870\n",
      "Cropped batch from index 870 to 880\n",
      "Cropped batch from index 880 to 890\n",
      "Cropped batch from index 890 to 900\n",
      "Cropped batch from index 900 to 910\n",
      "Cropped batch from index 910 to 920\n",
      "Cropped batch from index 920 to 930\n",
      "Cropped batch from index 930 to 940\n",
      "Cropped batch from index 940 to 950\n",
      "Cropped batch from index 950 to 960\n",
      "Cropped batch from index 960 to 970\n",
      "Cropped batch from index 970 to 980\n",
      "Cropped batch from index 980 to 990\n",
      "Cropped batch from index 990 to 1000\n",
      "Cropped batch from index 1000 to 1010\n",
      "Cropped batch from index 1010 to 1020\n",
      "Cropped batch from index 1020 to 1030\n",
      "Cropped batch from index 1030 to 1040\n",
      "Cropped batch from index 1040 to 1050\n",
      "Cropped batch from index 1050 to 1060\n",
      "Cropped batch from index 1060 to 1070\n",
      "Cropped batch from index 1070 to 1080\n",
      "Cropped batch from index 1080 to 1090\n",
      "Cropped batch from index 1090 to 1100\n",
      "Cropped batch from index 1100 to 1110\n",
      "Cropped batch from index 1110 to 1120\n",
      "Cropped batch from index 1120 to 1130\n"
     ]
    }
   ],
   "source": [
    "import numpy as np\n",
    "\n",
    "def crop_center(img, cropx, cropy):\n",
    "    # Assuming img has shape (slices, height, width, channels)\n",
    "    d, y, x, c = img.shape\n",
    "    startx = x // 2 - (cropx // 2)\n",
    "    starty = y // 2 - (cropy // 2)\n",
    "    \n",
    "    # Ensure the cropped image has the same number of channels\n",
    "    return img[:, starty:starty+cropy, startx:startx+cropx, :]\n",
    "\n",
    "# Assuming 'data' is your array of MRI scans\n",
    "batch_size = 10  # Set your batch size\n",
    "\n",
    "# Initialize a new array to hold the cropped images\n",
    "cropped_data = np.zeros((data.shape[0], data.shape[1], 160, 160, data.shape[-1]), dtype=data.dtype)\n",
    "\n",
    "# Loop over the data in batches for cropping\n",
    "for start in range(0, len(data), batch_size):\n",
    "    end = start + batch_size\n",
    "    batch = data[start:end]\n",
    "\n",
    "    # Apply cropping to each image in the batch\n",
    "    cropped_batch = np.array([crop_center(img, 160, 160) for img in batch])\n",
    "\n",
    "    # Update the cropped_data array with the cropped_batch\n",
    "    cropped_data[start:end] = cropped_batch\n",
    "\n",
    "    # Feedback to user\n",
    "    print(f\"Cropped batch from index {start} to {end}\")\n",
    "\n",
    "# Now 'cropped_data' contains the cropped images\n",
    "# You can continue to use 'cropped_data' for further processing such as scaling\n"
   ]
  },
  {
   "cell_type": "markdown",
   "metadata": {},
   "source": [
    "## Scaling the data based on max batch value (instead of 255)"
   ]
  },
  {
   "cell_type": "code",
   "execution_count": 12,
   "metadata": {
    "scrolled": true
   },
   "outputs": [
    {
     "name": "stdout",
     "output_type": "stream",
     "text": [
      "Processed and normalized batch from index 0 to 10\n",
      "Processed and normalized batch from index 10 to 20\n",
      "Processed and normalized batch from index 20 to 30\n",
      "Processed and normalized batch from index 30 to 40\n",
      "Processed and normalized batch from index 40 to 50\n",
      "Processed and normalized batch from index 50 to 60\n",
      "Processed and normalized batch from index 60 to 70\n",
      "Processed and normalized batch from index 70 to 80\n",
      "Processed and normalized batch from index 80 to 90\n",
      "Processed and normalized batch from index 90 to 100\n",
      "Processed and normalized batch from index 100 to 110\n",
      "Processed and normalized batch from index 110 to 120\n",
      "Processed and normalized batch from index 120 to 130\n",
      "Processed and normalized batch from index 130 to 140\n",
      "Processed and normalized batch from index 140 to 150\n",
      "Processed and normalized batch from index 150 to 160\n",
      "Processed and normalized batch from index 160 to 170\n",
      "Processed and normalized batch from index 170 to 180\n",
      "Processed and normalized batch from index 180 to 190\n",
      "Processed and normalized batch from index 190 to 200\n",
      "Processed and normalized batch from index 200 to 210\n",
      "Processed and normalized batch from index 210 to 220\n",
      "Processed and normalized batch from index 220 to 230\n",
      "Processed and normalized batch from index 230 to 240\n",
      "Processed and normalized batch from index 240 to 250\n",
      "Processed and normalized batch from index 250 to 260\n",
      "Processed and normalized batch from index 260 to 270\n",
      "Processed and normalized batch from index 270 to 280\n",
      "Processed and normalized batch from index 280 to 290\n",
      "Processed and normalized batch from index 290 to 300\n",
      "Processed and normalized batch from index 300 to 310\n",
      "Processed and normalized batch from index 310 to 320\n",
      "Processed and normalized batch from index 320 to 330\n",
      "Processed and normalized batch from index 330 to 340\n",
      "Processed and normalized batch from index 340 to 350\n",
      "Processed and normalized batch from index 350 to 360\n",
      "Processed and normalized batch from index 360 to 370\n",
      "Processed and normalized batch from index 370 to 380\n",
      "Processed and normalized batch from index 380 to 390\n",
      "Processed and normalized batch from index 390 to 400\n",
      "Processed and normalized batch from index 400 to 410\n",
      "Processed and normalized batch from index 410 to 420\n",
      "Processed and normalized batch from index 420 to 430\n",
      "Processed and normalized batch from index 430 to 440\n",
      "Processed and normalized batch from index 440 to 450\n",
      "Processed and normalized batch from index 450 to 460\n",
      "Processed and normalized batch from index 460 to 470\n",
      "Processed and normalized batch from index 470 to 480\n",
      "Processed and normalized batch from index 480 to 490\n",
      "Processed and normalized batch from index 490 to 500\n",
      "Processed and normalized batch from index 500 to 510\n",
      "Processed and normalized batch from index 510 to 520\n",
      "Processed and normalized batch from index 520 to 530\n",
      "Processed and normalized batch from index 530 to 540\n",
      "Processed and normalized batch from index 540 to 550\n",
      "Processed and normalized batch from index 550 to 560\n",
      "Processed and normalized batch from index 560 to 570\n",
      "Processed and normalized batch from index 570 to 580\n",
      "Processed and normalized batch from index 580 to 590\n",
      "Processed and normalized batch from index 590 to 600\n",
      "Processed and normalized batch from index 600 to 610\n",
      "Processed and normalized batch from index 610 to 620\n",
      "Processed and normalized batch from index 620 to 630\n",
      "Processed and normalized batch from index 630 to 640\n",
      "Processed and normalized batch from index 640 to 650\n",
      "Processed and normalized batch from index 650 to 660\n",
      "Processed and normalized batch from index 660 to 670\n",
      "Processed and normalized batch from index 670 to 680\n",
      "Processed and normalized batch from index 680 to 690\n",
      "Processed and normalized batch from index 690 to 700\n",
      "Processed and normalized batch from index 700 to 710\n",
      "Processed and normalized batch from index 710 to 720\n",
      "Processed and normalized batch from index 720 to 730\n",
      "Processed and normalized batch from index 730 to 740\n",
      "Processed and normalized batch from index 740 to 750\n",
      "Processed and normalized batch from index 750 to 760\n",
      "Processed and normalized batch from index 760 to 770\n",
      "Processed and normalized batch from index 770 to 780\n",
      "Processed and normalized batch from index 780 to 790\n",
      "Processed and normalized batch from index 790 to 800\n",
      "Processed and normalized batch from index 800 to 810\n",
      "Processed and normalized batch from index 810 to 820\n",
      "Processed and normalized batch from index 820 to 830\n",
      "Processed and normalized batch from index 830 to 840\n",
      "Processed and normalized batch from index 840 to 850\n",
      "Processed and normalized batch from index 850 to 860\n",
      "Processed and normalized batch from index 860 to 870\n",
      "Processed and normalized batch from index 870 to 880\n",
      "Processed and normalized batch from index 880 to 890\n",
      "Processed and normalized batch from index 890 to 900\n",
      "Processed and normalized batch from index 900 to 910\n",
      "Processed and normalized batch from index 910 to 920\n",
      "Processed and normalized batch from index 920 to 930\n",
      "Processed and normalized batch from index 930 to 940\n",
      "Processed and normalized batch from index 940 to 950\n",
      "Processed and normalized batch from index 950 to 960\n",
      "Processed and normalized batch from index 960 to 970\n",
      "Processed and normalized batch from index 970 to 980\n",
      "Processed and normalized batch from index 980 to 990\n",
      "Processed and normalized batch from index 990 to 1000\n",
      "Processed and normalized batch from index 1000 to 1010\n",
      "Processed and normalized batch from index 1010 to 1020\n",
      "Processed and normalized batch from index 1020 to 1030\n",
      "Processed and normalized batch from index 1030 to 1040\n",
      "Processed and normalized batch from index 1040 to 1050\n",
      "Processed and normalized batch from index 1050 to 1060\n",
      "Processed and normalized batch from index 1060 to 1070\n",
      "Processed and normalized batch from index 1070 to 1080\n",
      "Processed and normalized batch from index 1080 to 1090\n",
      "Processed and normalized batch from index 1090 to 1100\n",
      "Processed and normalized batch from index 1100 to 1110\n",
      "Processed and normalized batch from index 1110 to 1120\n",
      "Processed and normalized batch from index 1120 to 1130\n"
     ]
    }
   ],
   "source": [
    "\n",
    "import numpy as np\n",
    "\n",
    "# Calculate the batch size that your memory can handle, e.g., 100\n",
    "batch_size = 10\n",
    "\n",
    "# Loop over the data in batches for normalization\n",
    "for start in range(0, len(cropped_data), batch_size):\n",
    "    end = start + batch_size\n",
    "    batch = cropped_data[start:end]\n",
    "\n",
    "    # Calculate the min and max for the current batch\n",
    "    batch_min = batch.min()\n",
    "    batch_max = batch.max()\n",
    "\n",
    "    # Normalize the batch and update the data in-place\n",
    "    cropped_data[start:end] = (batch.astype(np.float32) - batch_min) / (batch_max - batch_min)\n",
    "\n",
    "    # Feedback to user\n",
    "    print(f\"Processed and normalized batch from index {start} to {end}\")\n"
   ]
  },
  {
   "cell_type": "code",
   "execution_count": null,
   "metadata": {},
   "outputs": [],
   "source": [
    "data = cropped_data[:-1]"
   ]
  },
  {
   "cell_type": "code",
   "execution_count": null,
   "metadata": {},
   "outputs": [],
   "source": [
    "del cropped_data"
   ]
  },
  {
   "cell_type": "markdown",
   "metadata": {},
   "source": [
    "## Data Augmentation "
   ]
  },
  {
   "cell_type": "code",
   "execution_count": 9,
   "metadata": {
    "scrolled": true
   },
   "outputs": [
    {
     "name": "stdout",
     "output_type": "stream",
     "text": [
      "Augmented batch from index 0 to 10\n",
      "Augmented batch from index 10 to 20\n",
      "Augmented batch from index 20 to 30\n",
      "Augmented batch from index 30 to 40\n",
      "Augmented batch from index 40 to 50\n",
      "Augmented batch from index 50 to 60\n",
      "Augmented batch from index 60 to 70\n",
      "Augmented batch from index 70 to 80\n",
      "Augmented batch from index 80 to 90\n",
      "Augmented batch from index 90 to 100\n",
      "Augmented batch from index 100 to 110\n",
      "Augmented batch from index 110 to 120\n",
      "Augmented batch from index 120 to 130\n",
      "Augmented batch from index 130 to 140\n",
      "Augmented batch from index 140 to 150\n",
      "Augmented batch from index 150 to 160\n",
      "Augmented batch from index 160 to 170\n",
      "Augmented batch from index 170 to 180\n",
      "Augmented batch from index 180 to 190\n",
      "Augmented batch from index 190 to 200\n",
      "Augmented batch from index 200 to 210\n",
      "Augmented batch from index 210 to 220\n",
      "Augmented batch from index 220 to 230\n",
      "Augmented batch from index 230 to 240\n",
      "Augmented batch from index 240 to 250\n",
      "Augmented batch from index 250 to 260\n",
      "Augmented batch from index 260 to 270\n",
      "Augmented batch from index 270 to 280\n",
      "Augmented batch from index 280 to 290\n",
      "Augmented batch from index 290 to 300\n",
      "Augmented batch from index 300 to 310\n",
      "Augmented batch from index 310 to 320\n",
      "Augmented batch from index 320 to 330\n",
      "Augmented batch from index 330 to 340\n",
      "Augmented batch from index 340 to 350\n",
      "Augmented batch from index 350 to 360\n",
      "Augmented batch from index 360 to 370\n",
      "Augmented batch from index 370 to 380\n",
      "Augmented batch from index 380 to 390\n",
      "Augmented batch from index 390 to 400\n",
      "Augmented batch from index 400 to 410\n",
      "Augmented batch from index 410 to 420\n",
      "Augmented batch from index 420 to 430\n",
      "Augmented batch from index 430 to 440\n",
      "Augmented batch from index 440 to 450\n",
      "Augmented batch from index 450 to 460\n",
      "Augmented batch from index 460 to 470\n",
      "Augmented batch from index 470 to 480\n",
      "Augmented batch from index 480 to 490\n",
      "Augmented batch from index 490 to 500\n",
      "Augmented batch from index 500 to 510\n",
      "Augmented batch from index 510 to 520\n",
      "Augmented batch from index 520 to 530\n",
      "Augmented batch from index 530 to 540\n",
      "Augmented batch from index 540 to 550\n",
      "Augmented batch from index 550 to 560\n",
      "Augmented batch from index 560 to 570\n",
      "Augmented batch from index 570 to 580\n",
      "Augmented batch from index 580 to 590\n",
      "Augmented batch from index 590 to 600\n",
      "Augmented batch from index 600 to 610\n",
      "Augmented batch from index 610 to 620\n",
      "Augmented batch from index 620 to 630\n",
      "Augmented batch from index 630 to 640\n",
      "Augmented batch from index 640 to 650\n",
      "Augmented batch from index 650 to 660\n",
      "Augmented batch from index 660 to 670\n",
      "Augmented batch from index 670 to 680\n",
      "Augmented batch from index 680 to 690\n",
      "Augmented batch from index 690 to 700\n",
      "Augmented batch from index 700 to 710\n",
      "Augmented batch from index 710 to 720\n",
      "Augmented batch from index 720 to 730\n",
      "Augmented batch from index 730 to 740\n",
      "Augmented batch from index 740 to 750\n",
      "Augmented batch from index 750 to 760\n",
      "Augmented batch from index 760 to 770\n",
      "Augmented batch from index 770 to 780\n",
      "Augmented batch from index 780 to 790\n",
      "Augmented batch from index 790 to 800\n",
      "Augmented batch from index 800 to 810\n",
      "Augmented batch from index 810 to 820\n",
      "Augmented batch from index 820 to 830\n",
      "Augmented batch from index 830 to 840\n",
      "Augmented batch from index 840 to 850\n",
      "Augmented batch from index 850 to 860\n",
      "Augmented batch from index 860 to 870\n",
      "Augmented batch from index 870 to 880\n",
      "Augmented batch from index 880 to 890\n",
      "Augmented batch from index 890 to 900\n",
      "Augmented batch from index 900 to 910\n",
      "Augmented batch from index 910 to 920\n",
      "Augmented batch from index 920 to 930\n",
      "Augmented batch from index 930 to 940\n",
      "Augmented batch from index 940 to 950\n",
      "Augmented batch from index 950 to 960\n",
      "Augmented batch from index 960 to 970\n",
      "Augmented batch from index 970 to 980\n",
      "Augmented batch from index 980 to 990\n",
      "Augmented batch from index 990 to 1000\n",
      "Augmented batch from index 1000 to 1010\n",
      "Augmented batch from index 1010 to 1020\n",
      "Augmented batch from index 1020 to 1030\n",
      "Augmented batch from index 1030 to 1040\n",
      "Augmented batch from index 1040 to 1050\n",
      "Augmented batch from index 1050 to 1060\n",
      "Augmented batch from index 1060 to 1070\n",
      "Augmented batch from index 1070 to 1080\n",
      "Augmented batch from index 1080 to 1090\n",
      "Augmented batch from index 1090 to 1100\n",
      "Augmented batch from index 1100 to 1110\n",
      "Augmented batch from index 1110 to 1120\n",
      "Augmented batch from index 1120 to 1130\n"
     ]
    }
   ],
   "source": [
    "\n",
    "\n",
    "import numpy as np\n",
    "import random\n",
    "\n",
    "def random_rotation(img, max_angle):\n",
    "    # Rotate image by a random angle within the range [-max_angle, max_angle]\n",
    "    k = random.choice([0, 1, 2, 3])  # Rotates by 0, 90, 180, or 270 degrees\n",
    "    return np.rot90(img, k=k, axes=(0, 1))  # Rotate on the (height, width) plane\n",
    "\n",
    "def horizontal_flip(img, flip_prob):\n",
    "    # Flip image horizontally with a given probability\n",
    "    if random.random() < flip_prob:\n",
    "        return np.flip(img, axis=1)  # Flip on the width axis\n",
    "    return img\n",
    "\n",
    "# Set your batch size and other parameters\n",
    "batch_size = 10\n",
    "max_angle = 1  # For np.rot90, the angle is in multiples of 90 degrees\n",
    "flip_prob = 0.5\n",
    "\n",
    "# Assuming 'data' is your array of MRI scans with shape (num_scans, num_slices, height, width, channels)\n",
    "for start in range(0, len(data), batch_size):\n",
    "    end = min(start + batch_size, len(data))\n",
    "    batch = data[start:end]\n",
    "\n",
    "    # Apply augmentation to each slice in each scan\n",
    "    augmented_batch = np.empty_like(batch)\n",
    "    for scan_idx, scan in enumerate(batch):\n",
    "        for slice_idx, img_slice in enumerate(scan):\n",
    "            # Ensure the slice has no channel dimension for augmentation functions\n",
    "            img_slice_2d = img_slice[..., 0] if img_slice.ndim == 3 else img_slice\n",
    "            rotated = random_rotation(img_slice_2d, max_angle)\n",
    "            flipped = horizontal_flip(rotated, flip_prob)\n",
    "            # If the original slice had a channel dimension, we need to expand the dimensions of the augmented slice\n",
    "            augmented_batch[scan_idx, slice_idx] = np.expand_dims(flipped, axis=-1) if img_slice.ndim == 3 else flipped\n",
    "    \n",
    "    # Update the original data array with the augmented batch\n",
    "    data[start:end] = augmented_batch\n",
    "\n",
    "    print(f\"Augmented batch from index {start} to {end}\")\n"
   ]
  },
  {
   "cell_type": "markdown",
   "metadata": {},
   "source": [
    "# Split Data"
   ]
  },
  {
   "cell_type": "code",
   "execution_count": 15,
   "metadata": {},
   "outputs": [],
   "source": [
    "train_size = int(len(data)*.7)\n",
    "val_size = int(len(data)*.2)\n",
    "test_size = int(len(data)*.1)"
   ]
  },
  {
   "cell_type": "code",
   "execution_count": 16,
   "metadata": {},
   "outputs": [
    {
     "data": {
      "text/plain": [
       "1129"
      ]
     },
     "execution_count": 16,
     "metadata": {},
     "output_type": "execute_result"
    }
   ],
   "source": [
    "data.shape[0]"
   ]
  },
  {
   "cell_type": "code",
   "execution_count": 17,
   "metadata": {},
   "outputs": [
    {
     "data": {
      "text/plain": [
       "1129"
      ]
     },
     "execution_count": 17,
     "metadata": {},
     "output_type": "execute_result"
    }
   ],
   "source": [
    "labels.shape[0]"
   ]
  },
  {
   "cell_type": "code",
   "execution_count": 19,
   "metadata": {},
   "outputs": [
    {
     "name": "stdout",
     "output_type": "stream",
     "text": [
      "Training set shape: (790, 50, 160, 160, 3)\n",
      "Validation set shape: (225, 50, 160, 160, 3)\n",
      "Test set shape: (114, 50, 160, 160, 3)\n"
     ]
    }
   ],
   "source": [
    "# Assuming data and labels are numpy arrays\n",
    "total_size = data.shape[0]\n",
    "\n",
    "# Calculate the indices for splitting\n",
    "train_end = int(train_size)\n",
    "val_end = train_end + int(val_size)\n",
    "\n",
    "# Split the data\n",
    "trainD = data[:train_end]\n",
    "valD = data[train_end:val_end]\n",
    "testD = data[val_end:]\n",
    "\n",
    "# Split the labels\n",
    "trainL = labels[:train_end]\n",
    "valL = labels[train_end:val_end]\n",
    "testL = labels[val_end:]\n",
    "\n",
    "# Create tuples for easy handling\n",
    "train = (trainD, trainL)\n",
    "validation = (valD, valL)\n",
    "test = (testD, testL)\n",
    "\n",
    "# Check the shape of the datasets\n",
    "print('Training set shape:', trainD.shape)\n",
    "print('Validation set shape:', valD.shape)\n",
    "print('Test set shape:', testD.shape)"
   ]
  },
  {
   "cell_type": "markdown",
   "metadata": {},
   "source": [
    "## Data Generator (generates data in a sequence to help with training memory load)"
   ]
  },
  {
   "cell_type": "code",
   "execution_count": 102,
   "metadata": {},
   "outputs": [],
   "source": [
    "from tensorflow.keras.utils import Sequence"
   ]
  },
  {
   "cell_type": "code",
   "execution_count": 103,
   "metadata": {},
   "outputs": [],
   "source": [
    "class MRISequence(Sequence):\n",
    "    def __init__(self, x_set, y_set, batch_size):\n",
    "        self.x, self.y = x_set, y_set\n",
    "        self.batch_size = batch_size\n",
    "\n",
    "    def __len__(self):\n",
    "        return int(np.ceil(len(self.x) / float(self.batch_size)))\n",
    "\n",
    "    def __getitem__(self, idx):\n",
    "        batch_x = self.x[idx * self.batch_size:(idx + 1) * self.batch_size]\n",
    "        batch_y = self.y[idx * self.batch_size:(idx + 1) * self.batch_size]\n",
    "\n",
    "        return np.array(batch_x), np.array(batch_y)"
   ]
  },
  {
   "cell_type": "code",
   "execution_count": 104,
   "metadata": {},
   "outputs": [],
   "source": [
    "# Assuming 'trainD' and 'trainL' are paths to your data or some lazy loading mechanism\n",
    "train_seq = MRISequence(trainD, trainL, batch_size=5)  # Adjust batch_size to a suitable value for your hardware"
   ]
  },
  {
   "cell_type": "markdown",
   "metadata": {},
   "source": [
    "# 4. Build Deep Learning Model"
   ]
  },
  {
   "cell_type": "markdown",
   "metadata": {},
   "source": [
    "## Test 5 (imageclassifier6.h5) (Used test 4 model) it gave the same result as test 2, but the file size was too large due to using Sequential model)"
   ]
  },
  {
   "cell_type": "code",
   "execution_count": null,
   "metadata": {},
   "outputs": [],
   "source": [
    "\n",
    "\n",
    "from tensorflow.keras.models import Model\n",
    "from tensorflow.keras.layers import Input, Conv3D, MaxPooling3D, Flatten, Dense, Dropout, BatchNormalization\n",
    "from tensorflow.keras.regularizers import l2\n",
    "from tensorflow.keras.callbacks import EarlyStopping\n",
    "from tensorflow.keras.optimizers import Adam\n",
    "\n",
    "model = Sequential()\n",
    "\n",
    "input_shape = (50, 160, 160, 3)\n",
    "inputs = Input(shape=input_shape)\n",
    "\n",
    "x = Conv3D(32, kernel_size=(3, 3, 3), activation='relu', padding='same', \n",
    "           kernel_regularizer=l2(0.01))(inputs)\n",
    "x = BatchNormalization()(x)\n",
    "x = MaxPooling3D(pool_size=(2, 2, 2), padding='same')(x)\n",
    "\n",
    "x = Conv3D(64, kernel_size=(3, 3, 3), activation='relu', padding='same', \n",
    "           kernel_regularizer=l2(0.01))(x)\n",
    "x = BatchNormalization()(x)\n",
    "x = MaxPooling3D(pool_size=(2, 2, 2), padding='same')(x)\n",
    "\n",
    "x = Conv3D(128, kernel_size=(3, 3, 3), activation='relu', padding='same', \n",
    "           kernel_regularizer=l2(0.01))(x)\n",
    "x = BatchNormalization()(x)\n",
    "x = MaxPooling3D(pool_size=(2, 2, 2), padding='same')(x)\n",
    "\n",
    "x = Flatten()(x)\n",
    "\n",
    "x = Dense(256, activation='relu', kernel_regularizer=l2(0.01))(x)\n",
    "x = Dropout(0.5)(x)\n",
    "\n",
    "outputs = Dense(3, activation='sigmoid')(x)\n",
    "\n",
    "model = Model(inputs=inputs, outputs=outputs)\n",
    "\n",
    "optimizer = Adam(learning_rate=0.001)\n",
    "model.compile(optimizer=optimizer, loss='binary_crossentropy', metrics=['accuracy', AUC(multi_label=True)])\n",
    "\n",
    "early_stopping = EarlyStopping(monitor='val_loss', patience=5, verbose=1, restore_best_weights=True)\n",
    "\n",
    "# Model Summary\n",
    "model.summary()\n"
   ]
  },
  {
   "cell_type": "markdown",
   "metadata": {},
   "source": [
    "## Test 2 (imageclassifier2.h5) and Test 3 (Did not save) Model Build "
   ]
  },
  {
   "cell_type": "markdown",
   "metadata": {},
   "source": [
    "## Note: for Test 3 we simply increased regularizer values to 0.02"
   ]
  },
  {
   "cell_type": "code",
   "execution_count": 29,
   "metadata": {},
   "outputs": [],
   "source": [
    "\n",
    "\n",
    "\n",
    "from tensorflow.keras.models import Sequential\n",
    "from tensorflow.keras.layers import Conv3D, MaxPooling3D, Dense, Flatten, Dropout, BatchNormalization\n",
    "from tensorflow.keras.regularizers import l2\n",
    "from tensorflow.keras.callbacks import EarlyStopping\n",
    "\n",
    "\n",
    "\n",
    "model = Sequential()\n",
    "\n",
    "\n",
    "\n",
    "input_shape = (50, 160, 160, 3)\n",
    "\n",
    "# Input Conv3D layer\n",
    "model.add(Conv3D(32, kernel_size=(3, 3, 3), activation='relu', input_shape=input_shape,\n",
    "                 padding='same', kernel_regularizer=l2(0.01)))\n",
    "model.add(MaxPooling3D(pool_size=(2, 2, 2), padding='same'))\n",
    "\n",
    "# Additional Conv3D and MaxPooling3D layers\n",
    "model.add(Conv3D(64, kernel_size=(3, 3, 3), activation='relu', padding='same', \n",
    "                 kernel_regularizer=l2(0.01)))\n",
    "model.add(MaxPooling3D(pool_size=(2, 2, 2), padding='same'))\n",
    "\n",
    "model.add(Conv3D(128, kernel_size=(3, 3, 3), activation='relu', padding='same', \n",
    "                 kernel_regularizer=l2(0.01)))\n",
    "model.add(MaxPooling3D(pool_size=(2, 2, 2), padding='same'))\n",
    "\n",
    "# Flatten the output to feed into the dense layers\n",
    "model.add(Flatten())\n",
    "\n",
    "# Dense layer with dropout and regularization\n",
    "model.add(Dense(256, activation='relu', kernel_regularizer=l2(0.01)))\n",
    "model.add(Dropout(0.5))\n",
    "\n",
    "# Output layer for multi-label classification\n",
    "model.add(Dense(3, activation='sigmoid'))  # Assuming 3 classes for the output layer\n",
    "\n",
    "# Early stopping callback\n",
    "early_stopping = EarlyStopping(monitor='val_loss', \n",
    "                               patience=5, \n",
    "                               verbose=1, \n",
    "                               restore_best_weights=True)\n",
    "\n",
    "# Compile the model\n",
    "model.compile(optimizer='adam', loss='binary_crossentropy', metrics=['accuracy']) \n",
    "\n",
    "# Model Summary\n",
    "model.summary()"
   ]
  },
  {
   "cell_type": "markdown",
   "metadata": {},
   "source": [
    "## Test 4 Model Build (imageclassifier5.h5)"
   ]
  },
  {
   "cell_type": "code",
   "execution_count": 18,
   "metadata": {
    "scrolled": true
   },
   "outputs": [
    {
     "name": "stdout",
     "output_type": "stream",
     "text": [
      "WARNING:tensorflow:From C:\\Users\\Jack\\AppData\\Local\\Programs\\Python\\Python310\\lib\\site-packages\\keras\\src\\backend.py:1398: The name tf.executing_eagerly_outside_functions is deprecated. Please use tf.compat.v1.executing_eagerly_outside_functions instead.\n",
      "\n",
      "WARNING:tensorflow:From C:\\Users\\Jack\\AppData\\Local\\Programs\\Python\\Python310\\lib\\site-packages\\keras\\src\\layers\\normalization\\batch_normalization.py:979: The name tf.nn.fused_batch_norm is deprecated. Please use tf.compat.v1.nn.fused_batch_norm instead.\n",
      "\n",
      "WARNING:tensorflow:From C:\\Users\\Jack\\AppData\\Local\\Programs\\Python\\Python310\\lib\\site-packages\\keras\\src\\optimizers\\__init__.py:309: The name tf.train.Optimizer is deprecated. Please use tf.compat.v1.train.Optimizer instead.\n",
      "\n",
      "Model: \"model\"\n",
      "__________________________________________________________________________________________________\n",
      " Layer (type)                Output Shape                 Param #   Connected to                  \n",
      "==================================================================================================\n",
      " input_1 (InputLayer)        [(None, 50, 160, 160, 3)]    0         []                            \n",
      "                                                                                                  \n",
      " conv3d (Conv3D)             (None, 25, 80, 80, 32)       32960     ['input_1[0][0]']             \n",
      "                                                                                                  \n",
      " batch_normalization (Batch  (None, 25, 80, 80, 32)       128       ['conv3d[0][0]']              \n",
      " Normalization)                                                                                   \n",
      "                                                                                                  \n",
      " activation (Activation)     (None, 25, 80, 80, 32)       0         ['batch_normalization[0][0]'] \n",
      "                                                                                                  \n",
      " max_pooling3d (MaxPooling3  (None, 13, 40, 40, 32)       0         ['activation[0][0]']          \n",
      " D)                                                                                               \n",
      "                                                                                                  \n",
      " conv3d_2 (Conv3D)           (None, 13, 40, 40, 64)       55360     ['max_pooling3d[0][0]']       \n",
      "                                                                                                  \n",
      " batch_normalization_2 (Bat  (None, 13, 40, 40, 64)       256       ['conv3d_2[0][0]']            \n",
      " chNormalization)                                                                                 \n",
      "                                                                                                  \n",
      " activation_1 (Activation)   (None, 13, 40, 40, 64)       0         ['batch_normalization_2[0][0]'\n",
      "                                                                    ]                             \n",
      "                                                                                                  \n",
      " conv3d_1 (Conv3D)           (None, 13, 40, 40, 64)       2112      ['max_pooling3d[0][0]']       \n",
      "                                                                                                  \n",
      " conv3d_3 (Conv3D)           (None, 13, 40, 40, 64)       110656    ['activation_1[0][0]']        \n",
      "                                                                                                  \n",
      " batch_normalization_1 (Bat  (None, 13, 40, 40, 64)       256       ['conv3d_1[0][0]']            \n",
      " chNormalization)                                                                                 \n",
      "                                                                                                  \n",
      " batch_normalization_3 (Bat  (None, 13, 40, 40, 64)       256       ['conv3d_3[0][0]']            \n",
      " chNormalization)                                                                                 \n",
      "                                                                                                  \n",
      " add (Add)                   (None, 13, 40, 40, 64)       0         ['batch_normalization_1[0][0]'\n",
      "                                                                    , 'batch_normalization_3[0][0]\n",
      "                                                                    ']                            \n",
      "                                                                                                  \n",
      " activation_2 (Activation)   (None, 13, 40, 40, 64)       0         ['add[0][0]']                 \n",
      "                                                                                                  \n",
      " conv3d_4 (Conv3D)           (None, 13, 40, 40, 64)       110656    ['activation_2[0][0]']        \n",
      "                                                                                                  \n",
      " batch_normalization_4 (Bat  (None, 13, 40, 40, 64)       256       ['conv3d_4[0][0]']            \n",
      " chNormalization)                                                                                 \n",
      "                                                                                                  \n",
      " activation_3 (Activation)   (None, 13, 40, 40, 64)       0         ['batch_normalization_4[0][0]'\n",
      "                                                                    ]                             \n",
      "                                                                                                  \n",
      " conv3d_5 (Conv3D)           (None, 13, 40, 40, 64)       110656    ['activation_3[0][0]']        \n",
      "                                                                                                  \n",
      " batch_normalization_5 (Bat  (None, 13, 40, 40, 64)       256       ['conv3d_5[0][0]']            \n",
      " chNormalization)                                                                                 \n",
      "                                                                                                  \n",
      " add_1 (Add)                 (None, 13, 40, 40, 64)       0         ['activation_2[0][0]',        \n",
      "                                                                     'batch_normalization_5[0][0]'\n",
      "                                                                    ]                             \n",
      "                                                                                                  \n",
      " activation_4 (Activation)   (None, 13, 40, 40, 64)       0         ['add_1[0][0]']               \n",
      "                                                                                                  \n",
      " dropout (Dropout)           (None, 13, 40, 40, 64)       0         ['activation_4[0][0]']        \n",
      "                                                                                                  \n",
      " global_max_pooling3d (Glob  (None, 64)                   0         ['dropout[0][0]']             \n",
      " alMaxPooling3D)                                                                                  \n",
      "                                                                                                  \n",
      " dense (Dense)               (None, 1024)                 66560     ['global_max_pooling3d[0][0]']\n",
      "                                                                                                  \n",
      " dropout_1 (Dropout)         (None, 1024)                 0         ['dense[0][0]']               \n",
      "                                                                                                  \n",
      " dense_1 (Dense)             (None, 3)                    3075      ['dropout_1[0][0]']           \n",
      "                                                                                                  \n",
      "==================================================================================================\n",
      "Total params: 493443 (1.88 MB)\n",
      "Trainable params: 492739 (1.88 MB)\n",
      "Non-trainable params: 704 (2.75 KB)\n",
      "__________________________________________________________________________________________________\n"
     ]
    }
   ],
   "source": [
    "\n",
    "from keras.models import Model\n",
    "from keras.layers import Input, Conv3D, MaxPooling3D, GlobalMaxPooling3D\n",
    "from keras.layers import Dense, Dropout, BatchNormalization, Activation\n",
    "from keras.layers import add\n",
    "from keras.regularizers import l2\n",
    "from keras.callbacks import EarlyStopping\n",
    "\n",
    "def conv_block(x, filters, kernel_size=(3, 3, 3), strides=(1, 1, 1), activation='relu', batch_norm=True, reg=l2(0.01)):\n",
    "    conv = Conv3D(filters, kernel_size, padding='same', strides=strides, kernel_regularizer=reg)(x)\n",
    "    if batch_norm:\n",
    "        conv = BatchNormalization()(conv)\n",
    "    if activation:\n",
    "        conv = Activation(activation)(conv)\n",
    "    return conv\n",
    "\n",
    "def residual_block(x, filters, kernel_size=(3, 3, 3), strides=(1, 1, 1), activation='relu', batch_norm=True, reg=l2(0.01)):\n",
    "    # Shortcut\n",
    "    shortcut = x\n",
    "    if strides != (1, 1, 1) or x.shape[-1] != filters:\n",
    "        shortcut = Conv3D(filters, (1, 1, 1), padding='same', strides=strides, kernel_regularizer=reg)(x)\n",
    "        if batch_norm:\n",
    "            shortcut = BatchNormalization()(shortcut)\n",
    "\n",
    "    # Residual path\n",
    "    x = conv_block(x, filters, kernel_size, strides, activation, batch_norm, reg)\n",
    "    x = conv_block(x, filters, kernel_size, activation=None, batch_norm=batch_norm, reg=reg)\n",
    "\n",
    "    # Add shortcut value to main path\n",
    "    x = add([shortcut, x])\n",
    "    if activation:\n",
    "        x = Activation(activation)(x)\n",
    "    return x\n",
    "\n",
    "# Input layer\n",
    "input_shape = (50, 160, 160, 3)\n",
    "inputs = Input(shape=input_shape)\n",
    "\n",
    "# First Convolutional Block\n",
    "x = conv_block(inputs, 32, kernel_size=(7, 7, 7), strides=(2, 2, 2))\n",
    "\n",
    "# MaxPooling\n",
    "x = MaxPooling3D(pool_size=(2, 2, 2), padding='same')(x)\n",
    "\n",
    "# Residual Blocks - adjust the number of blocks and filters based on the successful study\n",
    "x = residual_block(x, 64)\n",
    "x = residual_block(x, 64)\n",
    "x = Dropout(0.5)(x)\n",
    "\n",
    "# Additional Residual Blocks if needed\n",
    "# x = residual_block(x, 128)\n",
    "# x = Dropout(0.5)(x)\n",
    "# ... repeat as necessary ...\n",
    "\n",
    "# Transition to the fully connected layer with GlobalMaxPooling\n",
    "x = GlobalMaxPooling3D()(x)\n",
    "\n",
    "# Fully Connected Layer\n",
    "x = Dense(1024, activation='relu', kernel_regularizer=l2(0.01))(x)\n",
    "x = Dropout(0.5)(x)\n",
    "\n",
    "# Output Layer\n",
    "outputs = Dense(3, activation='sigmoid')(x)  # Assuming 3 classes for the output layer\n",
    "\n",
    "# Model definition\n",
    "model = Model(inputs=inputs, outputs=outputs)\n",
    "\n",
    "# Compile the model\n",
    "model.compile(optimizer='adam', loss='binary_crossentropy', metrics=['accuracy'])\n",
    "\n",
    "# Early stopping callback\n",
    "early_stopping = EarlyStopping(monitor='val_loss', patience=5, verbose=1, restore_best_weights=True)\n",
    "\n",
    "# Model Summary\n",
    "model.summary()\n"
   ]
  },
  {
   "cell_type": "markdown",
   "metadata": {},
   "source": [
    "# 5. Train"
   ]
  },
  {
   "cell_type": "code",
   "execution_count": 32,
   "metadata": {},
   "outputs": [],
   "source": [
    "# train loss / validation should go down, train accuracy and validation accuracy should go up"
   ]
  },
  {
   "cell_type": "code",
   "execution_count": 105,
   "metadata": {
    "tags": []
   },
   "outputs": [
    {
     "name": "stdout",
     "output_type": "stream",
     "text": [
      "Epoch 1/15\n",
      "158/158 [==============================] - 463s 3s/step - loss: 12.8487 - accuracy: 0.8329 - auc: 0.6819 - val_loss: 8.5101 - val_accuracy: 1.0000 - val_auc: 0.7734\n",
      "Epoch 2/15\n",
      "158/158 [==============================] - 458s 3s/step - loss: 6.3859 - accuracy: 0.9633 - auc: 0.7499 - val_loss: 4.7885 - val_accuracy: 1.0000 - val_auc: 0.7794\n",
      "Epoch 3/15\n",
      "158/158 [==============================] - 457s 3s/step - loss: 3.7647 - accuracy: 0.9722 - auc: 0.7612 - val_loss: 3.0085 - val_accuracy: 1.0000 - val_auc: 0.7676\n",
      "Epoch 4/15\n",
      "158/158 [==============================] - 447s 3s/step - loss: 2.4723 - accuracy: 0.9861 - auc: 0.7631 - val_loss: 2.4743 - val_accuracy: 0.0000e+00 - val_auc: 0.5711\n",
      "Epoch 5/15\n",
      "158/158 [==============================] - 445s 3s/step - loss: 1.8305 - accuracy: 0.9899 - auc: 0.7604 - val_loss: 1.5821 - val_accuracy: 1.0000 - val_auc: 0.7741\n",
      "Epoch 6/15\n",
      "158/158 [==============================] - 440s 3s/step - loss: 1.3834 - accuracy: 0.9937 - auc: 0.7594 - val_loss: 1.2596 - val_accuracy: 1.0000 - val_auc: 0.7744\n",
      "Epoch 7/15\n",
      "158/158 [==============================] - ETA: 0s - loss: 1.1415 - accuracy: 0.9924 - auc: 0.7648Restoring model weights from the end of the best epoch: 2.\n",
      "158/158 [==============================] - 442s 3s/step - loss: 1.1415 - accuracy: 0.9924 - auc: 0.7648 - val_loss: 1.1049 - val_accuracy: 1.0000 - val_auc: 0.7663\n",
      "Epoch 7: early stopping\n"
     ]
    }
   ],
   "source": [
    "# Fit the model with early stopping\n",
    "history = model.fit(train_seq, \n",
    "                    epochs=15, # Adjust the number of epochs as necessary\n",
    "                    verbose=1, \n",
    "                    validation_data= validation,\n",
    "                    callbacks=[early_stopping])"
   ]
  },
  {
   "cell_type": "code",
   "execution_count": 120,
   "metadata": {},
   "outputs": [
    {
     "name": "stdout",
     "output_type": "stream",
     "text": [
      "Package                      Version\n",
      "---------------------------- ------------\n",
      "absl-py                      2.0.0\n",
      "anyio                        4.1.0\n",
      "argon2-cffi                  23.1.0\n",
      "argon2-cffi-bindings         21.2.0\n",
      "arrow                        1.3.0\n",
      "asttokens                    2.4.1\n",
      "astunparse                   1.6.3\n",
      "async-lru                    2.0.4\n",
      "attrs                        23.1.0\n",
      "Babel                        2.13.1\n",
      "beautifulsoup4               4.12.2\n",
      "bleach                       6.1.0\n",
      "cachetools                   5.3.2\n",
      "certifi                      2023.11.17\n",
      "cffi                         1.16.0\n",
      "charset-normalizer           3.3.2\n",
      "colorama                     0.4.6\n",
      "comm                         0.2.0\n",
      "contourpy                    1.2.0\n",
      "cycler                       0.12.1\n",
      "debugpy                      1.8.0\n",
      "decorator                    5.1.1\n",
      "defusedxml                   0.7.1\n",
      "exceptiongroup               1.2.0\n",
      "executing                    2.0.1\n",
      "fastjsonschema               2.19.0\n",
      "flatbuffers                  23.5.26\n",
      "fonttools                    4.45.1\n",
      "fqdn                         1.5.1\n",
      "gast                         0.5.4\n",
      "google-auth                  2.23.4\n",
      "google-auth-oauthlib         1.1.0\n",
      "google-pasta                 0.2.0\n",
      "grpcio                       1.59.3\n",
      "h5py                         3.10.0\n",
      "idna                         3.5\n",
      "ipykernel                    6.26.0\n",
      "ipython                      8.18.0\n",
      "isoduration                  20.11.0\n",
      "jedi                         0.19.1\n",
      "Jinja2                       3.1.2\n",
      "joblib                       1.3.2\n",
      "json5                        0.9.14\n",
      "jsonpointer                  2.4\n",
      "jsonschema                   4.20.0\n",
      "jsonschema-specifications    2023.11.1\n",
      "jupyter_client               8.6.0\n",
      "jupyter_core                 5.5.0\n",
      "jupyter-events               0.9.0\n",
      "jupyter-lsp                  2.2.0\n",
      "jupyter_server               2.10.1\n",
      "jupyter_server_terminals     0.4.4\n",
      "jupyterlab                   4.0.9\n",
      "jupyterlab_pygments          0.3.0\n",
      "jupyterlab_server            2.25.2\n",
      "keras                        2.15.0\n",
      "kiwisolver                   1.4.5\n",
      "libclang                     16.0.6\n",
      "Markdown                     3.5.1\n",
      "MarkupSafe                   2.1.3\n",
      "matplotlib                   3.8.2\n",
      "matplotlib-inline            0.1.6\n",
      "mistune                      3.0.2\n",
      "ml-dtypes                    0.2.0\n",
      "nbclient                     0.9.0\n",
      "nbconvert                    7.11.0\n",
      "nbformat                     5.9.2\n",
      "nest-asyncio                 1.5.8\n",
      "notebook_shim                0.2.3\n",
      "numpy                        1.26.2\n",
      "oauthlib                     3.2.2\n",
      "opt-einsum                   3.3.0\n",
      "overrides                    7.4.0\n",
      "packaging                    23.2\n",
      "pandas                       2.1.3\n",
      "pandocfilters                1.5.0\n",
      "parso                        0.8.3\n",
      "Pillow                       10.1.0\n",
      "pip                          23.3.1\n",
      "platformdirs                 4.0.0\n",
      "prometheus-client            0.19.0\n",
      "prompt-toolkit               3.0.41\n",
      "protobuf                     4.23.4\n",
      "psutil                       5.9.6\n",
      "pure-eval                    0.2.2\n",
      "pyasn1                       0.5.1\n",
      "pyasn1-modules               0.3.0\n",
      "pycparser                    2.21\n",
      "pygame                       2.1.3\n",
      "Pygments                     2.17.2\n",
      "pyparsing                    3.1.1\n",
      "python-dateutil              2.8.2\n",
      "python-json-logger           2.0.7\n",
      "pytz                         2023.3.post1\n",
      "pywin32                      306\n",
      "pywinpty                     2.0.12\n",
      "PyYAML                       6.0.1\n",
      "pyzmq                        25.1.1\n",
      "referencing                  0.31.0\n",
      "requests                     2.31.0\n",
      "requests-oauthlib            1.3.1\n",
      "rfc3339-validator            0.1.4\n",
      "rfc3986-validator            0.1.1\n",
      "rpds-py                      0.13.1\n",
      "rsa                          4.9\n",
      "scikit-learn                 1.3.2\n",
      "scipy                        1.11.4\n",
      "seaborn                      0.13.0\n",
      "Send2Trash                   1.8.2\n",
      "setuptools                   58.1.0\n",
      "six                          1.16.0\n",
      "sniffio                      1.3.0\n",
      "soupsieve                    2.5\n",
      "stack-data                   0.6.3\n",
      "tensorboard                  2.15.1\n",
      "tensorboard-data-server      0.7.2\n",
      "tensorflow                   2.15.0\n",
      "tensorflow-estimator         2.15.0\n",
      "tensorflow-intel             2.15.0\n",
      "tensorflow-io-gcs-filesystem 0.31.0\n",
      "termcolor                    2.3.0\n",
      "terminado                    0.18.0\n",
      "threadpoolctl                3.2.0\n",
      "tinycss2                     1.2.1\n",
      "tomli                        2.0.1\n",
      "tornado                      6.3.3\n",
      "traitlets                    5.13.0\n",
      "types-python-dateutil        2.8.19.14\n",
      "typing_extensions            4.8.0\n",
      "tzdata                       2023.3\n",
      "uri-template                 1.3.0\n",
      "urllib3                      2.1.0\n",
      "wcwidth                      0.2.12\n",
      "webcolors                    1.13\n",
      "webencodings                 0.5.1\n",
      "websocket-client             1.6.4\n",
      "Werkzeug                     3.0.1\n",
      "wheel                        0.41.3\n",
      "wrapt                        1.14.1\n"
     ]
    }
   ],
   "source": [
    "!pip list"
   ]
  },
  {
   "cell_type": "markdown",
   "metadata": {},
   "source": [
    "# Save and Plot Performance"
   ]
  },
  {
   "cell_type": "code",
   "execution_count": 75,
   "metadata": {},
   "outputs": [],
   "source": [
    "from tensorflow.keras.models import load_model"
   ]
  },
  {
   "cell_type": "code",
   "execution_count": 106,
   "metadata": {},
   "outputs": [
    {
     "name": "stderr",
     "output_type": "stream",
     "text": [
      "C:\\Users\\Jack\\AppData\\Local\\Programs\\Python\\Python310\\lib\\site-packages\\keras\\src\\engine\\training.py:3103: UserWarning: You are saving your model as an HDF5 file via `model.save()`. This file format is considered legacy. We recommend using instead the native Keras format, e.g. `model.save('my_model.keras')`.\n",
      "  saving_api.save_model(\n"
     ]
    }
   ],
   "source": [
    "model.save(os.path.join('models','imageclassifier7.h5'))"
   ]
  },
  {
   "cell_type": "code",
   "execution_count": 107,
   "metadata": {},
   "outputs": [
    {
     "data": {
      "image/png": "[encoded data removed]",
      "text/plain": [
       "<Figure size 640x480 with 1 Axes>"
      ]
     },
     "metadata": {},
     "output_type": "display_data"
    }
   ],
   "source": [
    "# Plot for loss\n",
    "fig = plt.figure()\n",
    "plt.plot(history.history['loss'], color='#219EBC', label='loss')  # Blue Green color\n",
    "plt.plot(history.history['val_loss'], color='#FFB703', label='val_loss')  # Selective Yellow color\n",
    "fig.suptitle('Loss', fontsize=20)\n",
    "plt.legend(loc=\"upper left\")\n",
    "plt.show()"
   ]
  },
  {
   "cell_type": "code",
   "execution_count": 108,
   "metadata": {},
   "outputs": [
    {
     "data": {
      "image/png": "[encoded data removed]",
      "text/plain": [
       "<Figure size 640x480 with 1 Axes>"
      ]
     },
     "metadata": {},
     "output_type": "display_data"
    }
   ],
   "source": [
    "# Plot for accuracy\n",
    "fig = plt.figure()\n",
    "plt.plot(history.history['accuracy'], color='#219EBC', label='accuracy')  # Blue Green color\n",
    "plt.plot(history.history['val_accuracy'], color='#FFB703', label='val_accuracy')  # Selective Yellow color\n",
    "fig.suptitle('Accuracy', fontsize=20)\n",
    "plt.legend(loc=\"upper left\")\n",
    "plt.show()"
   ]
  },
  {
   "cell_type": "markdown",
   "metadata": {},
   "source": [
    "# 6. Evaluate"
   ]
  },
  {
   "cell_type": "code",
   "execution_count": 109,
   "metadata": {},
   "outputs": [],
   "source": [
    "from tensorflow.keras.metrics import Precision, Recall, BinaryAccuracy, AUC"
   ]
  },
  {
   "cell_type": "code",
   "execution_count": 110,
   "metadata": {},
   "outputs": [],
   "source": [
    "pre = Precision()\n",
    "re = Recall()\n",
    "acc = BinaryAccuracy()"
   ]
  },
  {
   "cell_type": "code",
   "execution_count": 111,
   "metadata": {},
   "outputs": [
    {
     "name": "stdout",
     "output_type": "stream",
     "text": [
      "1/1 [==============================] - 1s 939ms/step\n",
      "1/1 [==============================] - 1s 722ms/step\n",
      "1/1 [==============================] - 1s 759ms/step\n",
      "1/1 [==============================] - 1s 756ms/step\n",
      "1/1 [==============================] - 1s 783ms/step\n",
      "1/1 [==============================] - 1s 744ms/step\n",
      "1/1 [==============================] - 1s 743ms/step\n",
      "1/1 [==============================] - 1s 742ms/step\n",
      "1/1 [==============================] - 1s 708ms/step\n",
      "1/1 [==============================] - 1s 751ms/step\n",
      "1/1 [==============================] - 1s 754ms/step\n",
      "1/1 [==============================] - 1s 710ms/step\n",
      "1/1 [==============================] - 1s 718ms/step\n",
      "1/1 [==============================] - 1s 721ms/step\n",
      "1/1 [==============================] - 1s 750ms/step\n",
      "1/1 [==============================] - 1s 717ms/step\n",
      "1/1 [==============================] - 1s 730ms/step\n",
      "1/1 [==============================] - 1s 787ms/step\n",
      "1/1 [==============================] - 1s 752ms/step\n",
      "1/1 [==============================] - 1s 722ms/step\n",
      "1/1 [==============================] - 1s 744ms/step\n",
      "1/1 [==============================] - 1s 722ms/step\n",
      "1/1 [==============================] - 1s 609ms/step\n",
      "Precision: 0.6022, Recall: 0.7619, Accuracy: 0.6813, AUC: 0.5041\n"
     ]
    }
   ],
   "source": [
    "batch_size = 5\n",
    "\n",
    "for i in range(0, len(test[0]), batch_size):  # test[0] is the data component of the test set\n",
    "    # Create a batch of data and labels\n",
    "    X, y = test[0][i:i+batch_size], test[1][i:i+batch_size]\n",
    "    \n",
    "    # Make predictions\n",
    "    yhat = model.predict(X)\n",
    "    \n",
    "    # Update metrics\n",
    "    pre.update_state(y, yhat)\n",
    "    re.update_state(y, yhat)\n",
    "    acc.update_state(y, yhat)\n",
    "\n",
    "\n",
    "# Calculate final results\n",
    "precision_result = pre.result().numpy()\n",
    "recall_result = re.result().numpy()\n",
    "accuracy_result = acc.result().numpy()\n",
    "auc_result = auc.result().numpy()\n",
    "\n",
    "# Print results\n",
    "print(f'Precision: {precision_result:.4f}, Recall: {recall_result:.4f}, Accuracy: {accuracy_result:.4f})"
   ]
  },
  {
   "cell_type": "markdown",
   "metadata": {},
   "source": [
    "# 7. Save the Model using TFlite (optional)"
   ]
  },
  {
   "cell_type": "code",
   "execution_count": 99,
   "metadata": {},
   "outputs": [
    {
     "name": "stdout",
     "output_type": "stream",
     "text": [
      "INFO:tensorflow:Assets written to: C:\\Users\\Jack\\AppData\\Local\\Temp\\tmp4d4b3_l1\\assets\n"
     ]
    },
    {
     "name": "stderr",
     "output_type": "stream",
     "text": [
      "INFO:tensorflow:Assets written to: C:\\Users\\Jack\\AppData\\Local\\Temp\\tmp4d4b3_l1\\assets\n"
     ]
    },
    {
     "name": "stdout",
     "output_type": "stream",
     "text": [
      "Model is successfully converted to TensorFlow Lite and saved at models\\model6.tflite\n"
     ]
    }
   ],
   "source": [
    "import tensorflow as tf\n",
    "from tensorflow.keras.models import load_model\n",
    "import os\n",
    "\n",
    "# Initialize TFLiteConverter\n",
    "converter = tf.lite.TFLiteConverter.from_keras_model(model)\n",
    "\n",
    "# Indicate that TensorFlow ops are allowed (enables the use of Flex ops)\n",
    "converter.target_spec.supported_ops = [\n",
    "    tf.lite.OpsSet.TFLITE_BUILTINS, # Enable TensorFlow Lite ops.\n",
    "    tf.lite.OpsSet.SELECT_TF_OPS # Enable TensorFlow ops.\n",
    "]\n",
    "\n",
    "# Convert the model\n",
    "tflite_model = converter.convert()\n",
    "\n",
    "# Save the TFLite model\n",
    "tflite_model_path = os.path.join('models', 'model6.tflite')\n",
    "with open(tflite_model_path, 'wb') as f:\n",
    "    f.write(tflite_model)\n",
    "\n",
    "print(f'Model is successfully converted to TensorFlow Lite and saved at {tflite_model_path}')\n"
   ]
  },
  {
   "cell_type": "markdown",
   "metadata": {},
   "source": [
    "# 8. Load an Existing Model"
   ]
  },
  {
   "cell_type": "code",
   "execution_count": 96,
   "metadata": {},
   "outputs": [],
   "source": [
    "from tensorflow.keras.models import load_model\n",
    "import os\n",
    "\n",
    "# Assuming 'imageclassifier6.h5' is the filename of your saved model\n",
    "model_path = os.path.join('models', 'imageclassifier6.h5')\n",
    "model = load_model(model_path)"
   ]
  },
  {
   "cell_type": "code",
   "execution_count": null,
   "metadata": {},
   "outputs": [],
   "source": []
  }
 ],
 "metadata": {
  "kernelspec": {
   "display_name": "Python 3 (ipykernel)",
   "language": "python",
   "name": "python3"
  },
  "language_info": {
   "codemirror_mode": {
    "name": "ipython",
    "version": 3
   },
   "file_extension": ".py",
   "mimetype": "text/x-python",
   "name": "python",
   "nbconvert_exporter": "python",
   "pygments_lexer": "ipython3",
   "version": "3.10.1"
  }
 },
 "nbformat": 4,
 "nbformat_minor": 4
}

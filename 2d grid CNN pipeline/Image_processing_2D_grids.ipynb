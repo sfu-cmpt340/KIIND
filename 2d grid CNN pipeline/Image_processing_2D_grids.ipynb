{
 "cells": [
  {
   "cell_type": "markdown",
   "id": "c94e82b3-cfde-420a-849b-074186a6cc76",
   "metadata": {},
   "source": [
    "<font size=5> Install dependencies (if not already present)"
   ]
  },
  {
   "cell_type": "code",
   "execution_count": null,
   "id": "dee326d6-7540-4359-be8c-77ce62d4ed41",
   "metadata": {},
   "outputs": [],
   "source": [
    "#install dependencies if don't already have\n",
    "!pip install tqdm -U\n",
    "!pip install PIL -U\n",
    "!pip install numpy -U\n",
    "!pip"
   ]
  },
  {
   "cell_type": "code",
   "execution_count": 2,
   "id": "3b5ddcf0-44b4-4aaf-b39e-85fd5f81be40",
   "metadata": {
    "tags": []
   },
   "outputs": [],
   "source": [
    "import grid_processing\n",
    "import numpy as np"
   ]
  },
  {
   "cell_type": "markdown",
   "id": "55ab1779-7f15-4c98-8f8f-1adba94dc4f5",
   "metadata": {},
   "source": [
    "<font size=5> Create Grids (use MRNet-v1.0_demo for an example with few images, instead of entire dataset)"
   ]
  },
  {
   "cell_type": "code",
   "execution_count": 4,
   "id": "d256ab08-3f53-4b0b-8293-31faa022fa09",
   "metadata": {
    "tags": []
   },
   "outputs": [
    {
     "name": "stdout",
     "output_type": "stream",
     "text": [
      "Folder: { axial_grid_images } already exists! Create a new folder name or images will be put into pre-existing folder!\n"
     ]
    },
    {
     "name": "stderr",
     "output_type": "stream",
     "text": [
      "Creating Grid Images: 100%|\u001b[38;2;102;155;188m██████████████████\u001b[0m| 11/11 [00:00<00:00, 132.07it/s]\u001b[0m"
     ]
    },
    {
     "name": "stdout",
     "output_type": "stream",
     "text": [
      "\n",
      "===================DONE=======================\n",
      "Num grid Images created: 11\n"
     ]
    },
    {
     "name": "stderr",
     "output_type": "stream",
     "text": [
      "\n"
     ]
    }
   ],
   "source": [
    "#will be saved in folder containing images used to create grids (.npy files) \n",
    "#name will be grid_nameOfVolume.jpeg\n",
    "\n",
    "#parameters of create_grids:\n",
    "#file path path to file\n",
    "#crop factor - 2 = slices all 1/2 smaller, 3 = slices all 1/3 smaller etc.\n",
    "#max_grids = 0 grids will be made of 4x4 slices \n",
    "#max_grids = 1 grids will be made of largest possible number of slices (perfect square) and resized to 512x512\n",
    "\n",
    "#returns path to saved grid imags\n",
    "\n",
    "\n",
    "#axial grid images\n",
    "grid_path_axial = grid_processing.create_grids(\"MRNet-v1.0_demo/valid/axial\", 2, 0)"
   ]
  },
  {
   "cell_type": "code",
   "execution_count": 5,
   "id": "83c9570e-24e1-49fb-8921-de98ba1e17a1",
   "metadata": {
    "tags": []
   },
   "outputs": [
    {
     "name": "stdout",
     "output_type": "stream",
     "text": [
      "Folder: { coronal_grid_images } already exists! Create a new folder name or images will be put into pre-existing folder!\n"
     ]
    },
    {
     "name": "stderr",
     "output_type": "stream",
     "text": [
      "Creating Grid Images: 100%|\u001b[38;2;102;155;188m██████████████████\u001b[0m| 11/11 [00:00<00:00, 103.67it/s]\u001b[0m"
     ]
    },
    {
     "name": "stdout",
     "output_type": "stream",
     "text": [
      "\n",
      "===================DONE=======================\n",
      "Num grid Images created: 11\n"
     ]
    },
    {
     "name": "stderr",
     "output_type": "stream",
     "text": [
      "\n"
     ]
    }
   ],
   "source": [
    "#coronal grid images \n",
    "grid_path_coronal = grid_processing.create_grids(\"MRNet-v1.0_demo/valid/coronal\", 2, 0)"
   ]
  },
  {
   "cell_type": "code",
   "execution_count": 6,
   "id": "5e41dde6-2da2-49e3-9203-12a6a0f4c19a",
   "metadata": {
    "tags": []
   },
   "outputs": [
    {
     "name": "stdout",
     "output_type": "stream",
     "text": [
      "Folder: { sagittal_grid_images } already exists! Create a new folder name or images will be put into pre-existing folder!\n"
     ]
    },
    {
     "name": "stderr",
     "output_type": "stream",
     "text": [
      "Creating Grid Images: 100%|\u001b[38;2;102;155;188m██████████████████\u001b[0m| 11/11 [00:00<00:00, 155.71it/s]\u001b[0m"
     ]
    },
    {
     "name": "stdout",
     "output_type": "stream",
     "text": [
      "\n",
      "===================DONE=======================\n",
      "Num grid Images created: 11\n"
     ]
    },
    {
     "name": "stderr",
     "output_type": "stream",
     "text": [
      "\n"
     ]
    }
   ],
   "source": [
    "#sagittal grid images \n",
    "grid_path_sagittal = grid_processing.create_grids(\"MRNet-v1.0_demo/valid/sagittal\", 2,0)"
   ]
  },
  {
   "cell_type": "markdown",
   "id": "091538c6-47f1-4481-8c28-e58cbff85e09",
   "metadata": {},
   "source": [
    "<font size=5> Create triple grids"
   ]
  },
  {
   "cell_type": "code",
   "execution_count": 5,
   "id": "39f14cd7-cf74-40dd-b0ac-15c8fe43c8cd",
   "metadata": {
    "tags": []
   },
   "outputs": [
    {
     "name": "stdout",
     "output_type": "stream",
     "text": [
      "Folder: { triple_grids } already exists! Create a new folder name or images will be put into pre-existing folder!\n"
     ]
    },
    {
     "name": "stderr",
     "output_type": "stream",
     "text": [
      "Combining Grid Images: 100%|\u001b[38;2;102;155;188m██████████████████\u001b[0m| 11/11 [00:00<00:00, 52.16it/s]\u001b[0m"
     ]
    },
    {
     "name": "stdout",
     "output_type": "stream",
     "text": [
      "\n",
      "===================DONE=======================\n",
      "Num triple grid Images created: 11\n"
     ]
    },
    {
     "name": "stderr",
     "output_type": "stream",
     "text": [
      "\n"
     ]
    }
   ],
   "source": [
    "#will save triple grids in folder containing the 3 grid folders created above\n",
    "#parameters: filepath1, filepath2, filepath3 containing jpegs created above - will combine them into triple grids\n",
    "triple_grids_path = grid_processing.triple_grid(grid_path_axial, grid_path_coronal, grid_path_sagittal)"
   ]
  },
  {
   "cell_type": "markdown",
   "id": "bc251d71-c91b-47f4-a7c2-898eb87a97c7",
   "metadata": {},
   "source": [
    "<font size=5> Create rgb stacks"
   ]
  },
  {
   "cell_type": "code",
   "execution_count": 7,
   "id": "157d5b16-9559-4473-951e-b8b3d074e60b",
   "metadata": {
    "tags": []
   },
   "outputs": [
    {
     "name": "stdout",
     "output_type": "stream",
     "text": [
      "Folder: { rgb_stacks } already exists! Create a new folder name or images will be put into pre-existing folder!\n"
     ]
    },
    {
     "name": "stderr",
     "output_type": "stream",
     "text": [
      "Combining Grid Images: 100%|\u001b[38;2;102;155;188m██████████████████\u001b[0m| 11/11 [00:00<00:00, 74.53it/s]\u001b[0m"
     ]
    },
    {
     "name": "stdout",
     "output_type": "stream",
     "text": [
      "\n",
      "===================DONE=======================\n",
      "Num rgb triple channel Images created: 11\n"
     ]
    },
    {
     "name": "stderr",
     "output_type": "stream",
     "text": [
      "\n"
     ]
    }
   ],
   "source": [
    "#will save rgb stacks of axial, coronal, sagittal images (putting each into a channel (R G B))\n",
    "#will save triple grids in folder containing the 3 grid folders created above\n",
    "# parameters: filepath1, filepath2, filepath3 containing jpegs created above - will combine them into rgb stacks\n",
    "rgb_stacks_path = grid_processing.rgb_stacks(grid_path_axial, grid_path_coronal, grid_path_sagittal)"
   ]
  },
  {
   "cell_type": "markdown",
   "id": "1cade516-cfb1-49cd-9159-d05b2a0c9da3",
   "metadata": {},
   "source": [
    "<font size=5> Balance dataset given an array of labels"
   ]
  },
  {
   "cell_type": "code",
   "execution_count": 8,
   "id": "bceae155-0284-425b-aaa9-82dc1855fd67",
   "metadata": {
    "tags": []
   },
   "outputs": [
    {
     "name": "stdout",
     "output_type": "stream",
     "text": [
      "label count pre balance Counter({0: 66, 1: 54})\n",
      "/Users/danielsloseris/Desktop/CMPT 340/Project/project_18/2d grid CNN pipeline/balanced_acl_rgb_stacks.csv\n",
      "\n",
      "Saved csv: balanced_acl_rgb_stacks.csv in path /Users/danielsloseris/Desktop/CMPT 340/Project/project_18/2d grid CNN pipeline\n",
      "\n",
      "Path to balanced images being returned: /Users/danielsloseris/Desktop/CMPT 340/Project/project_18/2d grid CNN pipeline/MRNet-v1.0_demo/valid/balanced_acl_rgb_stacks\n"
     ]
    }
   ],
   "source": [
    "########validation labels############# \n",
    "temp,valid_labels = np.loadtxt(\"MRNet-v1.0_demo/valid-acl.csv\", #can add or remove more temps if there are more columns\n",
    "                 delimiter=\",\", dtype=int, unpack=True)\n",
    "\n",
    "#parameters: path to folder containing images to balance,\n",
    "            #numpy array of labels, which can be extracted from csv as above, \n",
    "            #name of folder to save balanced images to (csv will have same name)\n",
    "bal_imgs_path_train, bal_labels_train = grid_processing.balance_dataset(rgb_stacks_path,valid_labels,\n",
    "                                                                        'balanced_acl_rgb_stacks')"
   ]
  },
  {
   "cell_type": "code",
   "execution_count": null,
   "id": "eef6c7d2-5f77-4b2c-9f30-2cc247f0c7ef",
   "metadata": {},
   "outputs": [],
   "source": []
  }
 ],
 "metadata": {
  "kernelspec": {
   "display_name": "imageclassification",
   "language": "python",
   "name": "imageclassification"
  },
  "language_info": {
   "codemirror_mode": {
    "name": "ipython",
    "version": 3
   },
   "file_extension": ".py",
   "mimetype": "text/x-python",
   "name": "python",
   "nbconvert_exporter": "python",
   "pygments_lexer": "ipython3",
   "version": "3.11.5"
  }
 },
 "nbformat": 4,
 "nbformat_minor": 5
}

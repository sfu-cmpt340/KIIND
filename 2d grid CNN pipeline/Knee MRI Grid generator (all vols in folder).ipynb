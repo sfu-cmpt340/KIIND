{
 "cells": [
  {
   "cell_type": "code",
   "execution_count": 23,
   "id": "5033a4be-65ab-4d73-9ee5-843b3f9fe6cf",
   "metadata": {},
   "outputs": [],
   "source": [
    "##############comments#############\n",
    "#22/11/2023 11:47pm - saves grid images in a folder in reverse order \n"
   ]
  },
  {
   "cell_type": "code",
   "execution_count": 68,
   "id": "2c3d8d1d-f28b-4fc6-8e76-7f0e88d95c55",
   "metadata": {
    "tags": []
   },
   "outputs": [],
   "source": [
    "import tensorflow as tf\n",
    "import numpy as np\n",
    "from PIL import Image\n",
    "import os\n",
    "from matplotlib import pyplot as plt\n",
    "import sys\n",
    "import csv\n",
    "import shutil\n",
    "from tqdm.notebook import tqdm\n",
    "import time\n",
    "\n"
   ]
  },
  {
   "cell_type": "code",
   "execution_count": 72,
   "id": "ff43662c-e17c-4ed4-9ff9-be075236d35a",
   "metadata": {
    "tags": []
   },
   "outputs": [
    {
     "name": "stdout",
     "output_type": "stream",
     "text": [
      "Folder: { axial4x4_grid_images_cropped } already exists! Create a new folder name or images will be put into pre-existing folder!\n",
      "Folder: { coronal4x4_grid_images_cropped } already exists! Create a new folder name or images will be put into pre-existing folder!\n",
      "Sagittal data will be saved in:\n",
      "/Users/danielsloseris/Desktop/CMPT 340/Project/ImageClassification/MRNet-v1.0/valid/sagittal4x4_grid_images_cropped\n"
     ]
    }
   ],
   "source": [
    "\n",
    "# Step 1: Get all .npy file paths in a folder\n",
    "folder_path_images_axial = 'MRNet-v1.0/valid/axial'  # Update this with the path to your folder containing .npy files\n",
    "file_names = sorted(os.listdir(folder_path_images_axial))\n",
    "file_paths_axial = [os.path.join(folder_path_images_axial, file_name) for file_name in file_names if file_name.endswith('.npy')]\n",
    "\n",
    "folder_path_images_coronal = 'MRNet-v1.0/valid/coronal'  # Update this with the path to your folder containing .npy files\n",
    "file_names = sorted(os.listdir(folder_path_images_coronal))\n",
    "file_paths_coronal = [os.path.join(folder_path_images_coronal, file_name) for file_name in file_names if file_name.endswith('.npy')]\n",
    "\n",
    "folder_path_images_sagittal = 'MRNet-v1.0/valid/sagittal'  # Update this with the path to your folder containing .npy files\n",
    "file_names = sorted(os.listdir(folder_path_images_sagittal))\n",
    "file_paths_sagittal = [os.path.join(folder_path_images_sagittal, file_name) for file_name in file_names if file_name.endswith('.npy')]\n",
    "\n",
    "\n",
    "#Step 2 get current path and create new folder to save data in current path\n",
    "path_axial = os.path.join(os.getcwd(), folder_path_images_axial + '4x4_grid_images_cropped')\n",
    "path_coronal = os.path.join(os.getcwd(), folder_path_images_coronal + '4x4_grid_images_cropped')\n",
    "path_sagittal = os.path.join(os.getcwd(), folder_path_images_sagittal + '4x4_grid_images_cropped')\n",
    "\n",
    "\n",
    "if os.path.isdir(path_axial):\n",
    "    print(\"Folder: {\", os.path.basename(path_axial), \"} already exists! Create a new folder name or images will be put into pre-existing folder!\")\n",
    "else:\n",
    "    os.makedirs(path_axial)\n",
    "    print(\"Axial data will be saved in:\")\n",
    "    print(path_axial)\n",
    "    \n",
    "if os.path.isdir(path_coronal):\n",
    "    print(\"Folder: {\", os.path.basename(path_coronal), \"} already exists! Create a new folder name or images will be put into pre-existing folder!\")\n",
    "else:\n",
    "    os.makedirs(path_coronal)\n",
    "    print(\"Coronal data will be saved in:\")\n",
    "    print(path_coronal)\n",
    "    \n",
    "if os.path.isdir(path_sagittal):\n",
    "    print(\"Folder: {\", os.path.basename(path_sagittal), \"} already exists! Create a new folder name or images will be put into pre-existing folder!\")\n",
    "else:\n",
    "    os.makedirs(path_sagittal)\n",
    "    print(\"Sagittal data will be saved in:\")\n",
    "    print(path_sagittal)\n",
    "    "
   ]
  },
  {
   "cell_type": "code",
   "execution_count": 77,
   "id": "2a5476fb-771e-49d1-a112-6a9261e807b9",
   "metadata": {
    "tags": []
   },
   "outputs": [
    {
     "data": {
      "application/vnd.jupyter.widget-view+json": {
       "model_id": "29c277f40b594596b002d1616130a967",
       "version_major": 2,
       "version_minor": 0
      },
      "text/plain": [
       "Creating Grid Images:   0%|          | 0/120 [00:00<?, ?it/s]"
      ]
     },
     "metadata": {},
     "output_type": "display_data"
    },
    {
     "name": "stdout",
     "output_type": "stream",
     "text": [
      "\n",
      "===================DONE=======================\n",
      "Num grid Images created: 120\n"
     ]
    }
   ],
   "source": [
    "\n",
    "\n",
    "#Step 3: iterate over all .npy volumes in folder and generate grids of the slices laid out in a square\n",
    "pbar = tqdm(total=len(file_paths_axial), desc = \"Creating Grid Images\", colour='#669bbc')\n",
    "count = 0\n",
    "\n",
    "for file_path_axial, file_path_coronal, file_path_sagittal in zip(file_paths_axial, file_paths_coronal, file_paths_sagittal):\n",
    "# for file_path in file_paths:\n",
    "    \n",
    "    #load volumes\n",
    "    vol_axial = np.load(file_path_axial)\n",
    "    vol_coronal = np.load(file_path_coronal)\n",
    "    vol_sagittal = np.load(file_path_sagittal)\n",
    "    \n",
    "    nSlices_axial = np.size(vol_axial,0)#num of slices in image\n",
    "    nSlices_coronal = np.size(vol_coronal,0)\n",
    "    nSlices_sagittal = np.size(vol_sagittal,0)\n",
    "    # print(\"num Slices:\",nSlices)\n",
    "    \n",
    "    volName = os.path.basename(file_path_axial) #name will be same for all axes (just finding the label 0000, 0001 etc.)\n",
    "    end = volName.find('.')\n",
    "    volName = volName[:end]  \n",
    "\n",
    "    # print(f\"File Name: {os.path.basename(file_path)}\")\n",
    "         \n",
    "    #add all slices into a single array \"images\", a PIL, Image object\n",
    "    slices_axial= []\n",
    "    slices_coronal = []\n",
    "    slices_sagittal = []\n",
    "    for i in range(nSlices_axial):\n",
    "        image = Image.fromarray(vol_axial[i,:,:])\n",
    "        # image = image.resize((128,128), 1)# can resize images to make smaller and reduce compute\n",
    "        w, h = image.size\n",
    "        image = image.crop((w//4,h//4 , w-w//4, h-h//4))\n",
    "        slices_axial.append(image)\n",
    "        \n",
    "    for i in range(nSlices_coronal):\n",
    "        image = Image.fromarray(vol_coronal[i,:,:])\n",
    "        # image = image.resize((128,128), 1)# can resize images to make smaller and reduce compute\n",
    "        w, h = image.size\n",
    "        image = image.crop((w//4,h//4 , w-w//4, h-h//4))\n",
    "        slices_coronal.append(image)\n",
    "        \n",
    "    for i in range(nSlices_sagittal):\n",
    "        image = Image.fromarray(vol_sagittal[i,:,:])\n",
    "        # image = image.resize((128,128), 1)# can resize images to make smaller and reduce compute\n",
    "        w, h = image.size\n",
    "        image = image.crop((w//4,h//4 , w-w//4, h-h//4))\n",
    "        slices_sagittal.append(image)\n",
    "        \n",
    "      #if want to create largest possible grids  \n",
    "#     gridEdgeSize = int(np.sqrt(nSlices)) #will round down to smallest smaller edge size for a squrae grid\n",
    "#     nSlicesInGrid = gridEdgeSize**2 #number of slices to include in grid to ensure square\n",
    "    \n",
    "#     nSlices_Excluded = nSlices-nSlicesInGrid #number of slices excluded to ensure perfect square (rounding to nearest square)\n",
    "    \n",
    "    \n",
    "    \n",
    "    #if want to normalize to nxn grids\n",
    "    n=4\n",
    "    nSlices_Excluded = nSlices_axial - n**2\n",
    "    \n",
    "    #divide the number of exluded slices into 2 to remove from beginning and end, \n",
    "    #to hopefully capture more information in middle slices\n",
    "    nSlices_Excluded_first_half = nSlices_Excluded//2\n",
    "    nSlices_Excluded_second_half = nSlices_Excluded-nSlices_Excluded_first_half\n",
    "    start = nSlices_Excluded_first_half\n",
    "    end = nSlices_axial-nSlices_Excluded_second_half\n",
    "    grid_axial = pil_grid(slices_axial[start:end],n)\n",
    "\n",
    "    nSlices_Excluded = nSlices_coronal - n**2\n",
    "    \n",
    "    nSlices_Excluded_first_half = nSlices_Excluded//2\n",
    "    nSlices_Excluded_second_half = nSlices_Excluded-nSlices_Excluded_first_half\n",
    "    start = nSlices_Excluded_first_half\n",
    "    end = nSlices_coronal-nSlices_Excluded_second_half\n",
    "    grid_coronal = pil_grid(slices_coronal[start:end],n)\n",
    "    \n",
    "\n",
    "    nSlices_Excluded = nSlices_sagittal - n**2\n",
    "    \n",
    "    nSlices_Excluded_first_half = nSlices_Excluded//2\n",
    "    nSlices_Excluded_second_half = nSlices_Excluded-nSlices_Excluded_first_half\n",
    "    start = nSlices_Excluded_first_half\n",
    "    end = nSlices_sagittal-nSlices_Excluded_second_half\n",
    "    grid_sagittal = pil_grid(slices_sagittal[start:end],n)\n",
    "    \n",
    "    \n",
    "    \n",
    "    \n",
    "    # print(\"File Name: {} | total slices: {}, slices included: {}\".format(os.path.basename(file_path),nSlices,len(slices[start:end]) ))\n",
    "    \n",
    "    #(use this for rounding to smallest square)\n",
    "    # grid = pil_grid(slices[start:end],gridEdgeSize) #removes half of excluded slices from beginning and half from end \n",
    "    \n",
    "     #given a defined size of grid we want to make (nxn) use this\n",
    "    \n",
    "    #depending on the values at position intVolName on the csvs (info stored in dataArray) place image in correct folder\n",
    "    grid_axial.save(os.path.join(path_axial, 'axial_grid{}.jpeg'.format(volName)))\n",
    "    grid_coronal.save(os.path.join(path_coronal, 'coronal_grid{}.jpeg'.format(volName)))\n",
    "    grid_sagittal.save(os.path.join(path_sagittal, 'sagittal_grid{}.jpeg'.format(volName)))\n",
    "    count = count+1\n",
    "    pbar.update(1)\n",
    "    \n",
    "pbar.close()\n",
    "print(\"\\n===================DONE=======================\")\n",
    "print(\"Num grid Images created:\",count)\n",
    "\n",
    "\n",
    "\n"
   ]
  },
  {
   "cell_type": "code",
   "execution_count": 37,
   "id": "f469c06c-04cf-4875-980d-0e582ad79034",
   "metadata": {},
   "outputs": [
    {
     "name": "stdout",
     "output_type": "stream",
     "text": [
      "min slices 21\n"
     ]
    }
   ],
   "source": [
    "minSlices = np.size(np.load(file_paths[0]),0)\n",
    "for file_path in file_paths:\n",
    "    \n",
    "    #load volume\n",
    "    vol = np.load(file_path)\n",
    "    nSlices = np.size(vol,0)\n",
    "    if nSlices <minSlices:\n",
    "        minSlices = nSlices\n",
    "        \n",
    "print(\"min slices\", minSlices)"
   ]
  },
  {
   "cell_type": "markdown",
   "id": "83e1afd5-7997-434e-9211-58086ebaa2ad",
   "metadata": {},
   "source": [
    "<font size=5> combine 3 grids into one image"
   ]
  },
  {
   "cell_type": "code",
   "execution_count": 110,
   "id": "7eb89428-8739-48b1-8680-a7e1355fe797",
   "metadata": {
    "tags": []
   },
   "outputs": [
    {
     "name": "stdout",
     "output_type": "stream",
     "text": [
      "Data will be saved in:\n",
      "/Users/danielsloseris/Desktop/CMPT 340/Project/ImageClassification/MRNet-v1.0/valid_4x4_cropped/rgb_stacks_4x4_cropped\n"
     ]
    }
   ],
   "source": [
    "folder_path = 'MRNet-v1.0/valid_4x4_cropped'\n",
    "data_dir1 = os.path.join(folder_path, 'axial4x4_grid_images_cropped_1_fifth_154x154') #axial\n",
    "data_dir2 = os.path.join(folder_path, 'coronal4x4_grid_images_cropped_1_fifth_154x154') #coronal\n",
    "data_dir3 = os.path.join(folder_path, 'sagittal4x4_grid_images_cropped_1_fifth_154x154') #sagittal\n",
    "\n",
    "\n",
    "#Step 2 get current path and create new folder to save data in current path\n",
    "path = os.path.join(os.getcwd(), folder_path, 'rgb_stacks_4x4_cropped')\n",
    "\n",
    "\n",
    "if os.path.isdir(path):\n",
    "    print(\"Folder: {\", os.path.basename(path), \"} already exists! Create a new folder name or images will be put into pre-existing folder!\")\n",
    "else:\n",
    "    os.makedirs(path)\n",
    "    print(\"Data will be saved in:\")\n",
    "    print(path)\n",
    "    \n",
    "    \n",
    "file_names1 = sorted(os.listdir(data_dir1))\n",
    "file_paths_axial = [os.path.join(data_dir1, file_name) for file_name in file_names1 if file_name.endswith('.jpeg')]\n",
    "\n",
    "file_names2 = sorted(os.listdir(data_dir2))\n",
    "file_paths_coronal = [os.path.join(data_dir2, file_name) for file_name in file_names2 if file_name.endswith('.jpeg')]\n",
    "\n",
    "file_names3 = sorted(os.listdir(data_dir3))\n",
    "file_paths_sagittal = [os.path.join(data_dir3, file_name) for file_name in file_names3 if file_name.endswith('.jpeg')]"
   ]
  },
  {
   "cell_type": "markdown",
   "id": "96904ce9-2302-4e46-ad68-11806350dcd6",
   "metadata": {},
   "source": [
    "<font size=5> Testing on a single set of images (3 images side by side)"
   ]
  },
  {
   "cell_type": "code",
   "execution_count": 108,
   "id": "a31fbc75-b25c-4a24-b14b-8efe2141f880",
   "metadata": {
    "tags": []
   },
   "outputs": [
    {
     "name": "stdout",
     "output_type": "stream",
     "text": [
      "(512, 512)\n",
      "volname pre: axial_grid0001.jpeg volName len 14\n",
      "volNAME: 0001\n"
     ]
    }
   ],
   "source": [
    "\n",
    "\n",
    "im1 = Image.open(file_paths_axial[0])\n",
    "im2 = Image.open(file_paths_coronal[0])\n",
    "im3 = Image.open(file_paths_sagittal[0])\n",
    "image_size = im1.size\n",
    "print(image_size)\n",
    "\n",
    "\n",
    "volName = os.path.basename(file_paths_axial[1]) #can be any, just want the first 4 digits\n",
    "end = volName.find('.')\n",
    "start = len(volName)-4\n",
    "print(\"volname pre:\", volName, \"volName len\", len(volName[:end]))\n",
    "volName = volName[len(volName[:end])-4:end]\n",
    "print(\"volNAME:\",volName)\n",
    "    \n",
    "    \n",
    "grid = pil_grid([im1,im2,im3])\n",
    "grid.show()\n",
    "\n"
   ]
  },
  {
   "cell_type": "markdown",
   "id": "2690ea97-ce4d-44eb-8cc1-ab0ea69047d3",
   "metadata": {},
   "source": [
    "<font size=5> Combine all images in folder into single images (made of 3 grids)"
   ]
  },
  {
   "cell_type": "code",
   "execution_count": 67,
   "id": "c169756e-f99d-4eee-b035-3b7f0a46b403",
   "metadata": {
    "tags": []
   },
   "outputs": [
    {
     "data": {
      "application/vnd.jupyter.widget-view+json": {
       "model_id": "e3901902114f4023965b0c3538ea3fcb",
       "version_major": 2,
       "version_minor": 0
      },
      "text/plain": [
       "Combining Grid Images:   0%|          | 0/120 [00:00<?, ?it/s]"
      ]
     },
     "metadata": {},
     "output_type": "display_data"
    },
    {
     "name": "stdout",
     "output_type": "stream",
     "text": [
      "\n",
      "===================DONE=======================\n",
      "Num triple grid Images created: 120\n"
     ]
    }
   ],
   "source": [
    "\n",
    "count = 0\n",
    "pbar = tqdm(total=len(file_paths_axial), desc = \"Combining Grid Images\", colour='#669bbc')\n",
    "for file_path_axial, file_path_coronal, file_path_sagittal in zip(file_paths_axial, file_paths_coronal, file_paths_sagittal):\n",
    "\n",
    "    axial_img = Image.open(file_path_axial)\n",
    "    coronal_img = Image.open(file_path_coronal)\n",
    "    sagittal_img = Image.open(file_path_sagittal)\n",
    "    \n",
    "    imName = os.path.basename(file_path_axial) #can be any, just want the first 4 digits\n",
    "    end = imName.find('.')\n",
    "    # start = len(volName[:end])-4\n",
    "    imName = imName[len(imName[:end])-4:end]\n",
    "    # print(\"volNAME\",imName)\n",
    "    \n",
    "    grid = pil_grid([axial_img,coronal_img,sagittal_img])\n",
    "    \n",
    "    grid.save(os.path.join(path, 'tripleGrid_{}.jpeg'.format(imName)))\n",
    "    pbar.update(1)\n",
    "    count = count+1\n",
    "   \n",
    "\n",
    "pbar.close()\n",
    "print(\"\\n===================DONE=======================\")\n",
    "print(\"Num triple grid Images created:\",count)"
   ]
  },
  {
   "cell_type": "markdown",
   "id": "72079d45-a712-4104-ae5a-6cc580791297",
   "metadata": {},
   "source": [
    "<font size=5> 3 images (axial, coronal, sagittal) as channels of RGB image"
   ]
  },
  {
   "cell_type": "code",
   "execution_count": 103,
   "id": "8a8fb2b0-2d74-4173-bdd1-c7eaa0493a81",
   "metadata": {
    "tags": []
   },
   "outputs": [
    {
     "name": "stdout",
     "output_type": "stream",
     "text": [
      "volname pre: axial_grid1131.jpeg volName len 14\n",
      "volNAME: 1131\n"
     ]
    }
   ],
   "source": [
    "im1 = Image.open(file_paths_axial[0])\n",
    "im2 = Image.open(file_paths_coronal[0])\n",
    "im3 = Image.open(file_paths_sagittal[0])\n",
    "\n",
    "#convert rgb images into single channel images type greyscale\n",
    "im1_s = im1.convert('L') #s for single channel\n",
    "im2_s = im2.convert('L')\n",
    "im3_s = im3.convert('L')\n",
    "\n",
    "\n",
    "rgb = np.dstack((np.array(im1_s),np.array(im2_s),np.array(im3_s)))\n",
    "\n",
    "\n",
    "rgb_im = Image.fromarray(rgb)\n",
    "rgb_im.show()"
   ]
  },
  {
   "cell_type": "markdown",
   "id": "c679a467-9390-4484-a577-846a71406ca9",
   "metadata": {},
   "source": [
    "<font size=5> Combine all images in folder into single images (made of rbg stacked images)"
   ]
  },
  {
   "cell_type": "code",
   "execution_count": 111,
   "id": "e7dca8a3-4dfb-409c-a4fc-33fbb87cbd14",
   "metadata": {
    "tags": []
   },
   "outputs": [
    {
     "data": {
      "application/vnd.jupyter.widget-view+json": {
       "model_id": "022e5c239e4d48d19c4e0cad73a9214e",
       "version_major": 2,
       "version_minor": 0
      },
      "text/plain": [
       "Combining Grid Images:   0%|          | 0/120 [00:00<?, ?it/s]"
      ]
     },
     "metadata": {},
     "output_type": "display_data"
    },
    {
     "name": "stdout",
     "output_type": "stream",
     "text": [
      "\n",
      "===================DONE=======================\n",
      "Num rgb triple channel Images created: 120\n"
     ]
    }
   ],
   "source": [
    "\n",
    "count = 0\n",
    "pbar = tqdm(total=len(file_paths_axial), desc = \"Combining Grid Images\", colour='#669bbc')\n",
    "for file_path_axial, file_path_coronal, file_path_sagittal in zip(file_paths_axial, file_paths_coronal, file_paths_sagittal):\n",
    "\n",
    "    axial_img = Image.open(file_path_axial)\n",
    "    coronal_img = Image.open(file_path_coronal)\n",
    "    sagittal_img = Image.open(file_path_sagittal)\n",
    "    \n",
    "    im1_s = axial_img.convert('L') #s for single channel\n",
    "    im2_s = coronal_img.convert('L')\n",
    "    im3_s = sagittal_img.convert('L')\n",
    "    rgb = np.dstack((np.array(im1_s),np.array(im2_s),np.array(im3_s)))\n",
    "    rgb_im = Image.fromarray(rgb)\n",
    "    \n",
    "    imName = os.path.basename(file_path_axial) #can be any, just want the first 4 digits\n",
    "    end = imName.find('.')\n",
    "    # start = len(volName[:end])-4\n",
    "    imName = imName[len(imName[:end])-4:end]\n",
    "    # print(\"volNAME\",imName)\n",
    "    \n",
    "    # grid = pil_grid([axial_img,coronal_img,sagittal_img])\n",
    "    \n",
    "    rgb_im.save(os.path.join(path, 'rgbAxes_{}.jpeg'.format(imName)))\n",
    "    pbar.update(1)\n",
    "    count = count+1\n",
    "   \n",
    "\n",
    "pbar.close()\n",
    "print(\"\\n===================DONE=======================\")\n",
    "print(\"Num rgb triple channel Images created:\",count)"
   ]
  },
  {
   "cell_type": "code",
   "execution_count": null,
   "id": "177eb3d3-2e05-4ee3-8227-6e8b54062e33",
   "metadata": {},
   "outputs": [],
   "source": []
  }
 ],
 "metadata": {
  "kernelspec": {
   "display_name": "imageclassification",
   "language": "python",
   "name": "imageclassification"
  },
  "language_info": {
   "codemirror_mode": {
    "name": "ipython",
    "version": 3
   },
   "file_extension": ".py",
   "mimetype": "text/x-python",
   "name": "python",
   "nbconvert_exporter": "python",
   "pygments_lexer": "ipython3",
   "version": "3.11.5"
  }
 },
 "nbformat": 4,
 "nbformat_minor": 5
}
